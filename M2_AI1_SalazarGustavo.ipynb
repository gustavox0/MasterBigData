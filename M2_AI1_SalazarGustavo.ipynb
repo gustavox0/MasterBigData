{
  "nbformat": 4,
  "nbformat_minor": 0,
  "metadata": {
    "colab": {
      "provenance": [],
      "toc_visible": true,
      "mount_file_id": "1cHqN0iBqzoF_3rpoZ9wyBKKdPHZK0H8y",
      "authorship_tag": "ABX9TyMZ+p3v4S1/rnCQGrxXvoxW",
      "include_colab_link": true
    },
    "kernelspec": {
      "name": "python3",
      "display_name": "Python 3"
    },
    "language_info": {
      "name": "python"
    }
  },
  "cells": [
    {
      "cell_type": "markdown",
      "metadata": {
        "id": "view-in-github",
        "colab_type": "text"
      },
      "source": [
        "<a href=\"https://colab.research.google.com/github/gustavox0/MasterBigData/blob/main/M2_AI1_SalazarGustavo.ipynb\" target=\"_parent\"><img src=\"https://colab.research.google.com/assets/colab-badge.svg\" alt=\"Open In Colab\"/></a>"
      ]
    },
    {
      "cell_type": "code",
      "source": [],
      "metadata": {
        "id": "n_R-iLLJ1bad"
      },
      "execution_count": null,
      "outputs": []
    },
    {
      "cell_type": "code",
      "source": [
        "#monto la carpeta de drive para trabajar los archivos desde ahí\n",
        "##Importante: modificar esto antes de enviar la tarea.\n",
        "from google.colab import drive\n",
        "drive.mount('/content/drive')"
      ],
      "metadata": {
        "colab": {
          "base_uri": "https://localhost:8080/"
        },
        "id": "QRf3Z6TTdczD",
        "outputId": "1afb596a-6018-4ba0-db30-d70907b7b464"
      },
      "execution_count": 10,
      "outputs": [
        {
          "output_type": "stream",
          "name": "stdout",
          "text": [
            "Drive already mounted at /content/drive; to attempt to forcibly remount, call drive.mount(\"/content/drive\", force_remount=True).\n"
          ]
        }
      ]
    },
    {
      "cell_type": "code",
      "execution_count": 11,
      "metadata": {
        "id": "zoP9_W2yX-Bd"
      },
      "outputs": [],
      "source": [
        "#Cargo los paquetes pandas y numpy como pd y np, respectivamente\n",
        "import pandas as pd\n",
        "import numpy as np\n",
        "import matplotlib.pyplot as plt\n",
        "import seaborn as sns"
      ]
    },
    {
      "cell_type": "code",
      "source": [
        "#Cargo la base de gasolinas\n",
        "df=pd.read_csv('/content/drive/My Drive/Colab Notebooks/Tema1MBDDS/precio_gasolina.csv',sep=';')\n",
        "#df=pd.read_csv('/content/My Drive/Colab Notebooks/Tema1MBDDS/precio_gasolina.csv',sep=';')\n",
        "df.head()"
      ],
      "metadata": {
        "colab": {
          "base_uri": "https://localhost:8080/",
          "height": 539
        },
        "id": "f6sTWB5xavUd",
        "outputId": "8ea774fc-7909-455f-9770-11cf3c607dd3"
      },
      "execution_count": 12,
      "outputs": [
        {
          "output_type": "execute_result",
          "data": {
            "text/plain": [
              "                Provincia                 Localidad  Codigo_postal  \\\n",
              "0  SANTA CRUZ DE TENERIFE         CUESTA LA                  38320   \n",
              "1  SANTA CRUZ DE TENERIFE                 LA LAGUNA          38200   \n",
              "2  SANTA CRUZ DE TENERIFE  SANTA CRUZ DE TENERIFE            38110   \n",
              "3  SANTA CRUZ DE TENERIFE  SANTA CRUZ DE TENERIFE            38010   \n",
              "4  SANTA CRUZ DE TENERIFE           ADEJE                    38670   \n",
              "\n",
              "                                      Direccion Margen    Toma_de_datos  \\\n",
              "0                      AVENIDA LOS MENCEYES 223      D  01 08 2020 1353   \n",
              "1                      CARRETERA TF111 KM 8 346      D  01 08 2020 0900   \n",
              "2              CALLE LAURA GROTE DE LA PUERTA 2      D  27 07 2020 1202   \n",
              "3                      POLIGONO EL MAYORAZGO SN      N  29 07 2020 0000   \n",
              "4  CALLE CHARFA ESQUINA AVENIDA LAS PALMITAS SN      D  27 07 2020 1159   \n",
              "\n",
              "  Precio         Rotulo Tipo_venta Rem                       Horario  \\\n",
              "0  0,758           PCAN          P  dm                        LD 24H   \n",
              "1  0,759         OCEANO          P  dm        LS 06002200 D 07002200   \n",
              "2  0,769          GMOIL          P  dm  LV 24H S 06002000 D 08001500   \n",
              "3  0,789  TGASTU TREBOL          P  dm        LS 07302100 D 08001400   \n",
              "4  0,789          GMOIL          P  dm        LS 07002200 D 09001600   \n",
              "\n",
              "                              Tipo_servicio Fecha_extraccion  \n",
              "0                                LD 24H  A        01 08 2020  \n",
              "1            LS 06002200  A  D 07002200  A        01 08 2020  \n",
              "2  LV 24H  A  S 06002000  A  D 08001500  A        01 08 2020  \n",
              "3            LS 07302100  A  D 08001400  A        01 08 2020  \n",
              "4            LS 07002200  A  D 09001600  A        01 08 2020  "
            ],
            "text/html": [
              "\n",
              "  <div id=\"df-fc503fde-25e2-46aa-802d-b7b86ac3801f\" class=\"colab-df-container\">\n",
              "    <div>\n",
              "<style scoped>\n",
              "    .dataframe tbody tr th:only-of-type {\n",
              "        vertical-align: middle;\n",
              "    }\n",
              "\n",
              "    .dataframe tbody tr th {\n",
              "        vertical-align: top;\n",
              "    }\n",
              "\n",
              "    .dataframe thead th {\n",
              "        text-align: right;\n",
              "    }\n",
              "</style>\n",
              "<table border=\"1\" class=\"dataframe\">\n",
              "  <thead>\n",
              "    <tr style=\"text-align: right;\">\n",
              "      <th></th>\n",
              "      <th>Provincia</th>\n",
              "      <th>Localidad</th>\n",
              "      <th>Codigo_postal</th>\n",
              "      <th>Direccion</th>\n",
              "      <th>Margen</th>\n",
              "      <th>Toma_de_datos</th>\n",
              "      <th>Precio</th>\n",
              "      <th>Rotulo</th>\n",
              "      <th>Tipo_venta</th>\n",
              "      <th>Rem</th>\n",
              "      <th>Horario</th>\n",
              "      <th>Tipo_servicio</th>\n",
              "      <th>Fecha_extraccion</th>\n",
              "    </tr>\n",
              "  </thead>\n",
              "  <tbody>\n",
              "    <tr>\n",
              "      <th>0</th>\n",
              "      <td>SANTA CRUZ DE TENERIFE</td>\n",
              "      <td>CUESTA LA</td>\n",
              "      <td>38320</td>\n",
              "      <td>AVENIDA LOS MENCEYES 223</td>\n",
              "      <td>D</td>\n",
              "      <td>01 08 2020 1353</td>\n",
              "      <td>0,758</td>\n",
              "      <td>PCAN</td>\n",
              "      <td>P</td>\n",
              "      <td>dm</td>\n",
              "      <td>LD 24H</td>\n",
              "      <td>LD 24H  A</td>\n",
              "      <td>01 08 2020</td>\n",
              "    </tr>\n",
              "    <tr>\n",
              "      <th>1</th>\n",
              "      <td>SANTA CRUZ DE TENERIFE</td>\n",
              "      <td>LA LAGUNA</td>\n",
              "      <td>38200</td>\n",
              "      <td>CARRETERA TF111 KM 8 346</td>\n",
              "      <td>D</td>\n",
              "      <td>01 08 2020 0900</td>\n",
              "      <td>0,759</td>\n",
              "      <td>OCEANO</td>\n",
              "      <td>P</td>\n",
              "      <td>dm</td>\n",
              "      <td>LS 06002200 D 07002200</td>\n",
              "      <td>LS 06002200  A  D 07002200  A</td>\n",
              "      <td>01 08 2020</td>\n",
              "    </tr>\n",
              "    <tr>\n",
              "      <th>2</th>\n",
              "      <td>SANTA CRUZ DE TENERIFE</td>\n",
              "      <td>SANTA CRUZ DE TENERIFE</td>\n",
              "      <td>38110</td>\n",
              "      <td>CALLE LAURA GROTE DE LA PUERTA 2</td>\n",
              "      <td>D</td>\n",
              "      <td>27 07 2020 1202</td>\n",
              "      <td>0,769</td>\n",
              "      <td>GMOIL</td>\n",
              "      <td>P</td>\n",
              "      <td>dm</td>\n",
              "      <td>LV 24H S 06002000 D 08001500</td>\n",
              "      <td>LV 24H  A  S 06002000  A  D 08001500  A</td>\n",
              "      <td>01 08 2020</td>\n",
              "    </tr>\n",
              "    <tr>\n",
              "      <th>3</th>\n",
              "      <td>SANTA CRUZ DE TENERIFE</td>\n",
              "      <td>SANTA CRUZ DE TENERIFE</td>\n",
              "      <td>38010</td>\n",
              "      <td>POLIGONO EL MAYORAZGO SN</td>\n",
              "      <td>N</td>\n",
              "      <td>29 07 2020 0000</td>\n",
              "      <td>0,789</td>\n",
              "      <td>TGASTU TREBOL</td>\n",
              "      <td>P</td>\n",
              "      <td>dm</td>\n",
              "      <td>LS 07302100 D 08001400</td>\n",
              "      <td>LS 07302100  A  D 08001400  A</td>\n",
              "      <td>01 08 2020</td>\n",
              "    </tr>\n",
              "    <tr>\n",
              "      <th>4</th>\n",
              "      <td>SANTA CRUZ DE TENERIFE</td>\n",
              "      <td>ADEJE</td>\n",
              "      <td>38670</td>\n",
              "      <td>CALLE CHARFA ESQUINA AVENIDA LAS PALMITAS SN</td>\n",
              "      <td>D</td>\n",
              "      <td>27 07 2020 1159</td>\n",
              "      <td>0,789</td>\n",
              "      <td>GMOIL</td>\n",
              "      <td>P</td>\n",
              "      <td>dm</td>\n",
              "      <td>LS 07002200 D 09001600</td>\n",
              "      <td>LS 07002200  A  D 09001600  A</td>\n",
              "      <td>01 08 2020</td>\n",
              "    </tr>\n",
              "  </tbody>\n",
              "</table>\n",
              "</div>\n",
              "    <div class=\"colab-df-buttons\">\n",
              "\n",
              "  <div class=\"colab-df-container\">\n",
              "    <button class=\"colab-df-convert\" onclick=\"convertToInteractive('df-fc503fde-25e2-46aa-802d-b7b86ac3801f')\"\n",
              "            title=\"Convert this dataframe to an interactive table.\"\n",
              "            style=\"display:none;\">\n",
              "\n",
              "  <svg xmlns=\"http://www.w3.org/2000/svg\" height=\"24px\" viewBox=\"0 -960 960 960\">\n",
              "    <path d=\"M120-120v-720h720v720H120Zm60-500h600v-160H180v160Zm220 220h160v-160H400v160Zm0 220h160v-160H400v160ZM180-400h160v-160H180v160Zm440 0h160v-160H620v160ZM180-180h160v-160H180v160Zm440 0h160v-160H620v160Z\"/>\n",
              "  </svg>\n",
              "    </button>\n",
              "\n",
              "  <style>\n",
              "    .colab-df-container {\n",
              "      display:flex;\n",
              "      gap: 12px;\n",
              "    }\n",
              "\n",
              "    .colab-df-convert {\n",
              "      background-color: #E8F0FE;\n",
              "      border: none;\n",
              "      border-radius: 50%;\n",
              "      cursor: pointer;\n",
              "      display: none;\n",
              "      fill: #1967D2;\n",
              "      height: 32px;\n",
              "      padding: 0 0 0 0;\n",
              "      width: 32px;\n",
              "    }\n",
              "\n",
              "    .colab-df-convert:hover {\n",
              "      background-color: #E2EBFA;\n",
              "      box-shadow: 0px 1px 2px rgba(60, 64, 67, 0.3), 0px 1px 3px 1px rgba(60, 64, 67, 0.15);\n",
              "      fill: #174EA6;\n",
              "    }\n",
              "\n",
              "    .colab-df-buttons div {\n",
              "      margin-bottom: 4px;\n",
              "    }\n",
              "\n",
              "    [theme=dark] .colab-df-convert {\n",
              "      background-color: #3B4455;\n",
              "      fill: #D2E3FC;\n",
              "    }\n",
              "\n",
              "    [theme=dark] .colab-df-convert:hover {\n",
              "      background-color: #434B5C;\n",
              "      box-shadow: 0px 1px 3px 1px rgba(0, 0, 0, 0.15);\n",
              "      filter: drop-shadow(0px 1px 2px rgba(0, 0, 0, 0.3));\n",
              "      fill: #FFFFFF;\n",
              "    }\n",
              "  </style>\n",
              "\n",
              "    <script>\n",
              "      const buttonEl =\n",
              "        document.querySelector('#df-fc503fde-25e2-46aa-802d-b7b86ac3801f button.colab-df-convert');\n",
              "      buttonEl.style.display =\n",
              "        google.colab.kernel.accessAllowed ? 'block' : 'none';\n",
              "\n",
              "      async function convertToInteractive(key) {\n",
              "        const element = document.querySelector('#df-fc503fde-25e2-46aa-802d-b7b86ac3801f');\n",
              "        const dataTable =\n",
              "          await google.colab.kernel.invokeFunction('convertToInteractive',\n",
              "                                                    [key], {});\n",
              "        if (!dataTable) return;\n",
              "\n",
              "        const docLinkHtml = 'Like what you see? Visit the ' +\n",
              "          '<a target=\"_blank\" href=https://colab.research.google.com/notebooks/data_table.ipynb>data table notebook</a>'\n",
              "          + ' to learn more about interactive tables.';\n",
              "        element.innerHTML = '';\n",
              "        dataTable['output_type'] = 'display_data';\n",
              "        await google.colab.output.renderOutput(dataTable, element);\n",
              "        const docLink = document.createElement('div');\n",
              "        docLink.innerHTML = docLinkHtml;\n",
              "        element.appendChild(docLink);\n",
              "      }\n",
              "    </script>\n",
              "  </div>\n",
              "\n",
              "\n",
              "<div id=\"df-ee2c3a93-30d0-4dbd-b6e7-09063e5fa8e3\">\n",
              "  <button class=\"colab-df-quickchart\" onclick=\"quickchart('df-ee2c3a93-30d0-4dbd-b6e7-09063e5fa8e3')\"\n",
              "            title=\"Suggest charts\"\n",
              "            style=\"display:none;\">\n",
              "\n",
              "<svg xmlns=\"http://www.w3.org/2000/svg\" height=\"24px\"viewBox=\"0 0 24 24\"\n",
              "     width=\"24px\">\n",
              "    <g>\n",
              "        <path d=\"M19 3H5c-1.1 0-2 .9-2 2v14c0 1.1.9 2 2 2h14c1.1 0 2-.9 2-2V5c0-1.1-.9-2-2-2zM9 17H7v-7h2v7zm4 0h-2V7h2v10zm4 0h-2v-4h2v4z\"/>\n",
              "    </g>\n",
              "</svg>\n",
              "  </button>\n",
              "\n",
              "<style>\n",
              "  .colab-df-quickchart {\n",
              "      --bg-color: #E8F0FE;\n",
              "      --fill-color: #1967D2;\n",
              "      --hover-bg-color: #E2EBFA;\n",
              "      --hover-fill-color: #174EA6;\n",
              "      --disabled-fill-color: #AAA;\n",
              "      --disabled-bg-color: #DDD;\n",
              "  }\n",
              "\n",
              "  [theme=dark] .colab-df-quickchart {\n",
              "      --bg-color: #3B4455;\n",
              "      --fill-color: #D2E3FC;\n",
              "      --hover-bg-color: #434B5C;\n",
              "      --hover-fill-color: #FFFFFF;\n",
              "      --disabled-bg-color: #3B4455;\n",
              "      --disabled-fill-color: #666;\n",
              "  }\n",
              "\n",
              "  .colab-df-quickchart {\n",
              "    background-color: var(--bg-color);\n",
              "    border: none;\n",
              "    border-radius: 50%;\n",
              "    cursor: pointer;\n",
              "    display: none;\n",
              "    fill: var(--fill-color);\n",
              "    height: 32px;\n",
              "    padding: 0;\n",
              "    width: 32px;\n",
              "  }\n",
              "\n",
              "  .colab-df-quickchart:hover {\n",
              "    background-color: var(--hover-bg-color);\n",
              "    box-shadow: 0 1px 2px rgba(60, 64, 67, 0.3), 0 1px 3px 1px rgba(60, 64, 67, 0.15);\n",
              "    fill: var(--button-hover-fill-color);\n",
              "  }\n",
              "\n",
              "  .colab-df-quickchart-complete:disabled,\n",
              "  .colab-df-quickchart-complete:disabled:hover {\n",
              "    background-color: var(--disabled-bg-color);\n",
              "    fill: var(--disabled-fill-color);\n",
              "    box-shadow: none;\n",
              "  }\n",
              "\n",
              "  .colab-df-spinner {\n",
              "    border: 2px solid var(--fill-color);\n",
              "    border-color: transparent;\n",
              "    border-bottom-color: var(--fill-color);\n",
              "    animation:\n",
              "      spin 1s steps(1) infinite;\n",
              "  }\n",
              "\n",
              "  @keyframes spin {\n",
              "    0% {\n",
              "      border-color: transparent;\n",
              "      border-bottom-color: var(--fill-color);\n",
              "      border-left-color: var(--fill-color);\n",
              "    }\n",
              "    20% {\n",
              "      border-color: transparent;\n",
              "      border-left-color: var(--fill-color);\n",
              "      border-top-color: var(--fill-color);\n",
              "    }\n",
              "    30% {\n",
              "      border-color: transparent;\n",
              "      border-left-color: var(--fill-color);\n",
              "      border-top-color: var(--fill-color);\n",
              "      border-right-color: var(--fill-color);\n",
              "    }\n",
              "    40% {\n",
              "      border-color: transparent;\n",
              "      border-right-color: var(--fill-color);\n",
              "      border-top-color: var(--fill-color);\n",
              "    }\n",
              "    60% {\n",
              "      border-color: transparent;\n",
              "      border-right-color: var(--fill-color);\n",
              "    }\n",
              "    80% {\n",
              "      border-color: transparent;\n",
              "      border-right-color: var(--fill-color);\n",
              "      border-bottom-color: var(--fill-color);\n",
              "    }\n",
              "    90% {\n",
              "      border-color: transparent;\n",
              "      border-bottom-color: var(--fill-color);\n",
              "    }\n",
              "  }\n",
              "</style>\n",
              "\n",
              "  <script>\n",
              "    async function quickchart(key) {\n",
              "      const quickchartButtonEl =\n",
              "        document.querySelector('#' + key + ' button');\n",
              "      quickchartButtonEl.disabled = true;  // To prevent multiple clicks.\n",
              "      quickchartButtonEl.classList.add('colab-df-spinner');\n",
              "      try {\n",
              "        const charts = await google.colab.kernel.invokeFunction(\n",
              "            'suggestCharts', [key], {});\n",
              "      } catch (error) {\n",
              "        console.error('Error during call to suggestCharts:', error);\n",
              "      }\n",
              "      quickchartButtonEl.classList.remove('colab-df-spinner');\n",
              "      quickchartButtonEl.classList.add('colab-df-quickchart-complete');\n",
              "    }\n",
              "    (() => {\n",
              "      let quickchartButtonEl =\n",
              "        document.querySelector('#df-ee2c3a93-30d0-4dbd-b6e7-09063e5fa8e3 button');\n",
              "      quickchartButtonEl.style.display =\n",
              "        google.colab.kernel.accessAllowed ? 'block' : 'none';\n",
              "    })();\n",
              "  </script>\n",
              "</div>\n",
              "\n",
              "    </div>\n",
              "  </div>\n"
            ],
            "application/vnd.google.colaboratory.intrinsic+json": {
              "type": "dataframe",
              "variable_name": "df",
              "summary": "{\n  \"name\": \"df\",\n  \"rows\": 9991,\n  \"fields\": [\n    {\n      \"column\": \"Provincia\",\n      \"properties\": {\n        \"dtype\": \"category\",\n        \"num_unique_values\": 52,\n        \"samples\": [\n          \"GUADALAJARA\",\n          \"CACERES\",\n          \"SEGOVIA\"\n        ],\n        \"semantic_type\": \"\",\n        \"description\": \"\"\n      }\n    },\n    {\n      \"column\": \"Localidad\",\n      \"properties\": {\n        \"dtype\": \"category\",\n        \"num_unique_values\": 3887,\n        \"samples\": [\n          \"COCENTAINA        \",\n          \"CORCA          \",\n          \"ISLARES         \"\n        ],\n        \"semantic_type\": \"\",\n        \"description\": \"\"\n      }\n    },\n    {\n      \"column\": \"Codigo_postal\",\n      \"properties\": {\n        \"dtype\": \"number\",\n        \"std\": 14396,\n        \"min\": 1002,\n        \"max\": 52006,\n        \"num_unique_values\": 4198,\n        \"samples\": [\n          10140,\n          26000,\n          16470\n        ],\n        \"semantic_type\": \"\",\n        \"description\": \"\"\n      }\n    },\n    {\n      \"column\": \"Direccion\",\n      \"properties\": {\n        \"dtype\": \"string\",\n        \"num_unique_values\": 9699,\n        \"samples\": [\n          \"CALLE TRATADO DE PARIS 6\",\n          \"AVENIDA FUENTE NUEVA 18\",\n          \"AVENIDA ENRIC PRAT DE LA RIBA 10\"\n        ],\n        \"semantic_type\": \"\",\n        \"description\": \"\"\n      }\n    },\n    {\n      \"column\": \"Margen\",\n      \"properties\": {\n        \"dtype\": \"category\",\n        \"num_unique_values\": 3,\n        \"samples\": [\n          \"D\",\n          \"N\",\n          \"I\"\n        ],\n        \"semantic_type\": \"\",\n        \"description\": \"\"\n      }\n    },\n    {\n      \"column\": \"Toma_de_datos\",\n      \"properties\": {\n        \"dtype\": \"category\",\n        \"num_unique_values\": 2800,\n        \"samples\": [\n          \"27 07 2020 1335\",\n          \"27 07 2020 1530\",\n          \"23 07 2020 1356\"\n        ],\n        \"semantic_type\": \"\",\n        \"description\": \"\"\n      }\n    },\n    {\n      \"column\": \"Precio\",\n      \"properties\": {\n        \"dtype\": \"category\",\n        \"num_unique_values\": 360,\n        \"samples\": [\n          \"1,138\",\n          \"0,908\",\n          \"1,199\"\n        ],\n        \"semantic_type\": \"\",\n        \"description\": \"\"\n      }\n    },\n    {\n      \"column\": \"Rotulo\",\n      \"properties\": {\n        \"dtype\": \"category\",\n        \"num_unique_values\": 2850,\n        \"samples\": [\n          \"BENCINAS MESTRETS\",\n          \"SCA SIERRA DE LA PANDERA\",\n          \"MASOIL BENISA\"\n        ],\n        \"semantic_type\": \"\",\n        \"description\": \"\"\n      }\n    },\n    {\n      \"column\": \"Tipo_venta\",\n      \"properties\": {\n        \"dtype\": \"category\",\n        \"num_unique_values\": 5,\n        \"samples\": [\n          \"A\",\n          \"p\",\n          \"R\"\n        ],\n        \"semantic_type\": \"\",\n        \"description\": \"\"\n      }\n    },\n    {\n      \"column\": \"Rem\",\n      \"properties\": {\n        \"dtype\": \"category\",\n        \"num_unique_values\": 2,\n        \"samples\": [\n          \"OM\",\n          \"dm\"\n        ],\n        \"semantic_type\": \"\",\n        \"description\": \"\"\n      }\n    },\n    {\n      \"column\": \"Horario\",\n      \"properties\": {\n        \"dtype\": \"category\",\n        \"num_unique_values\": 1309,\n        \"samples\": [\n          \"LD 08302100\",\n          \"LV 06302130\"\n        ],\n        \"semantic_type\": \"\",\n        \"description\": \"\"\n      }\n    },\n    {\n      \"column\": \"Tipo_servicio\",\n      \"properties\": {\n        \"dtype\": \"category\",\n        \"num_unique_values\": 1613,\n        \"samples\": [\n          \"LV 06002200  P  SD 06002200  A \",\n          \"LS 06001900  P  D 08001900  P \"\n        ],\n        \"semantic_type\": \"\",\n        \"description\": \"\"\n      }\n    },\n    {\n      \"column\": \"Fecha_extraccion\",\n      \"properties\": {\n        \"dtype\": \"object\",\n        \"num_unique_values\": 1,\n        \"samples\": [\n          \"01 08 2020\"\n        ],\n        \"semantic_type\": \"\",\n        \"description\": \"\"\n      }\n    }\n  ]\n}"
            }
          },
          "metadata": {},
          "execution_count": 12
        }
      ]
    },
    {
      "cell_type": "code",
      "source": [
        "print(df.info())"
      ],
      "metadata": {
        "colab": {
          "base_uri": "https://localhost:8080/"
        },
        "id": "gLzjirRpgNPC",
        "outputId": "593ce0c9-507d-450b-cd83-ec511c4bb6a3"
      },
      "execution_count": 13,
      "outputs": [
        {
          "output_type": "stream",
          "name": "stdout",
          "text": [
            "<class 'pandas.core.frame.DataFrame'>\n",
            "RangeIndex: 9991 entries, 0 to 9990\n",
            "Data columns (total 13 columns):\n",
            " #   Column            Non-Null Count  Dtype \n",
            "---  ------            --------------  ----- \n",
            " 0   Provincia         9991 non-null   object\n",
            " 1   Localidad         9991 non-null   object\n",
            " 2   Codigo_postal     9991 non-null   int64 \n",
            " 3   Direccion         9991 non-null   object\n",
            " 4   Margen            9991 non-null   object\n",
            " 5   Toma_de_datos     9991 non-null   object\n",
            " 6   Precio            9991 non-null   object\n",
            " 7   Rotulo            9990 non-null   object\n",
            " 8   Tipo_venta        9991 non-null   object\n",
            " 9   Rem               9991 non-null   object\n",
            " 10  Horario           9991 non-null   object\n",
            " 11  Tipo_servicio     9845 non-null   object\n",
            " 12  Fecha_extraccion  9991 non-null   object\n",
            "dtypes: int64(1), object(12)\n",
            "memory usage: 1014.8+ KB\n",
            "None\n"
          ]
        }
      ]
    },
    {
      "cell_type": "markdown",
      "source": [
        "#Ejercicio 1\n",
        "Identifica el número total de observaciones y variables totales en el dataset. Calcula el número de nulos de cada variable.¿Qué aporta esta información?\n"
      ],
      "metadata": {
        "id": "Fr2lhgO652SC"
      }
    },
    {
      "cell_type": "markdown",
      "source": [
        "##1.1 Número total de observaciones y variables\n",
        "Para el total de observaciones y variables utilizo el atributo shape. Este atributo devuelve, en este caso,  el tamaño del arreglo (x,y), con **x** el número de observaciones y **y** el número de columnas."
      ],
      "metadata": {
        "id": "Bj_DN2_n6kba"
      }
    },
    {
      "cell_type": "code",
      "source": [
        "print(\"Número de observaciones\")\n",
        "print(df.shape[0])\n",
        "print(\"Número de variables\")\n",
        "print(df.shape[1])\n",
        "print(\"Nombre de las 13 variables\")\n",
        "print(df.columns)"
      ],
      "metadata": {
        "colab": {
          "base_uri": "https://localhost:8080/"
        },
        "id": "nbQGDYwC6Ucf",
        "outputId": "82dc542a-e721-4591-8b62-2b6c3bce5d17"
      },
      "execution_count": 16,
      "outputs": [
        {
          "output_type": "stream",
          "name": "stdout",
          "text": [
            "Número de observaciones\n",
            "9991\n",
            "Número de variables\n",
            "13\n",
            "Nombre de las 13 variables\n",
            "Index(['Provincia', 'Localidad', 'Codigo_postal', 'Direccion', 'Margen',\n",
            "       'Toma_de_datos', 'Precio', 'Rotulo', 'Tipo_venta', 'Rem', 'Horario',\n",
            "       'Tipo_servicio', 'Fecha_extraccion'],\n",
            "      dtype='object')\n"
          ]
        }
      ]
    },
    {
      "cell_type": "markdown",
      "source": [
        "##1.2 Número de nulos por variable\n",
        "Para ver los valores nulos por variable, utilizo la función vectorial isnull(). Este nos arroja los valores no nulos de cada variable"
      ],
      "metadata": {
        "id": "XPFPggJp6t8N"
      }
    },
    {
      "cell_type": "code",
      "source": [
        "print(\"Valores nulos por variable\")\n",
        "Nulos = df.isnull().sum()\n",
        "print(Nulos)"
      ],
      "metadata": {
        "colab": {
          "base_uri": "https://localhost:8080/"
        },
        "id": "3vSCAyqG6yjh",
        "outputId": "07cd3b31-fcc6-42b0-9220-783a5e627fe1"
      },
      "execution_count": null,
      "outputs": [
        {
          "output_type": "stream",
          "name": "stdout",
          "text": [
            "Valores nulos por variable\n",
            "Provincia             0\n",
            "Localidad             0\n",
            "Codigo_postal         0\n",
            "Direccion             0\n",
            "Margen                0\n",
            "Toma_de_datos         0\n",
            "Precio                0\n",
            "Rotulo                1\n",
            "Tipo_venta            0\n",
            "Rem                   0\n",
            "Horario               0\n",
            "Tipo_servicio       146\n",
            "Fecha_extraccion      0\n",
            "dtype: int64\n"
          ]
        }
      ]
    },
    {
      "cell_type": "markdown",
      "source": [
        "##1.3 ¿Qué aporta esta información?\n",
        "Al conocer el número de nulos que contiene cada variable, podemos decidir qué tan completa es la información del dataset y de qué manera podemos tratar la información faltante. En este caso, únicamente las variables \"Precio\" y \"Tipo_servicio\" cuentan con valores nulos. en el caso de Precio, esto representa solo 1/9991 (0.01%) y en el caso de Tipo_servicio, el 146/9991 (1.46%)."
      ],
      "metadata": {
        "id": "Uh90q96i7BTB"
      }
    },
    {
      "cell_type": "markdown",
      "source": [
        "#Ejercicio 2\n",
        "Identifica el tipo de variables a nivel estadístico que corresponden cada una del dataset. Debes explicar el motivo por el cual haces dicha clasificación.\n",
        "Para clasificar cada variable, visualizo 5 datos aleatorios de los valores que toma cada una de ellas."
      ],
      "metadata": {
        "id": "VfFwJ91_Ed1k"
      }
    },
    {
      "cell_type": "markdown",
      "source": [
        "\n",
        "1. **Provincia**: Identifica el nombre de la provincia en que se realizó la venta. No establece ningun orden. Se trata de una variable cualitativa nominal o de atributo."
      ],
      "metadata": {
        "id": "62m8hwcpMAdv"
      }
    },
    {
      "cell_type": "code",
      "source": [
        "print(df['Provincia'].sample(5))"
      ],
      "metadata": {
        "colab": {
          "base_uri": "https://localhost:8080/"
        },
        "id": "CW4o__ZdMBIw",
        "outputId": "8f8f8dc2-1d59-402b-d25b-1e6e89710d54"
      },
      "execution_count": 17,
      "outputs": [
        {
          "output_type": "stream",
          "name": "stdout",
          "text": [
            "8133    CASTELLON  CASTELLO\n",
            "3664               ZARAGOZA\n",
            "4574                CACERES\n",
            "2335               PALENCIA\n",
            "3002                   LEON\n",
            "Name: Provincia, dtype: object\n"
          ]
        }
      ]
    },
    {
      "cell_type": "markdown",
      "source": [
        "2. **Localidad**: Identifica la localidad en que se realizó la venta. No establece ningún orden. Se trata de una variable cualitativa o de atributo."
      ],
      "metadata": {
        "id": "dMZpQr-gNYqN"
      }
    },
    {
      "cell_type": "code",
      "source": [
        "print(df['Localidad'].sample(5))"
      ],
      "metadata": {
        "colab": {
          "base_uri": "https://localhost:8080/"
        },
        "id": "AmV4vKzaPDDo",
        "outputId": "e0db50e5-ff74-43b2-c48c-0c3717685467"
      },
      "execution_count": 18,
      "outputs": [
        {
          "output_type": "stream",
          "name": "stdout",
          "text": [
            "6624        ENCINA LA        \n",
            "4499         GRIJOTA         \n",
            "1509                 ALBACETE\n",
            "7493    MONFORTE DEL CID     \n",
            "3327     OTERO DE BODAS      \n",
            "Name: Localidad, dtype: object\n"
          ]
        }
      ]
    },
    {
      "cell_type": "markdown",
      "source": [
        "3. **Codigo_postal**: Identifica el código postal del lugar en que se realizó la venta. Es una variable cualitativa o de atributo"
      ],
      "metadata": {
        "id": "ERr30yXfEi9b"
      }
    },
    {
      "cell_type": "code",
      "source": [
        "print(df['Codigo_postal'].sample(5))"
      ],
      "metadata": {
        "colab": {
          "base_uri": "https://localhost:8080/"
        },
        "id": "P72SGZ5kPJym",
        "outputId": "e5558234-9b4f-491c-ab4b-66f2eebd5cc2"
      },
      "execution_count": 19,
      "outputs": [
        {
          "output_type": "stream",
          "name": "stdout",
          "text": [
            "9532     8031\n",
            "1262    30740\n",
            "6415    32630\n",
            "4058    30396\n",
            "9886    17750\n",
            "Name: Codigo_postal, dtype: int64\n"
          ]
        }
      ]
    },
    {
      "cell_type": "markdown",
      "source": [
        "4. **Direccion**: Identifica el lugar especifico en que se realizó la venta (ubicación de la estación). Es una variable cualitativa o de atributo."
      ],
      "metadata": {
        "id": "LUT9vztGPKLF"
      }
    },
    {
      "cell_type": "code",
      "source": [
        "print(df['Direccion'].sample(5))"
      ],
      "metadata": {
        "colab": {
          "base_uri": "https://localhost:8080/"
        },
        "id": "vhZasCvXPN5n",
        "outputId": "aec673ef-f6be-4957-b278-c9e1b4527e23"
      },
      "execution_count": 20,
      "outputs": [
        {
          "output_type": "stream",
          "name": "stdout",
          "text": [
            "6212    JOSE NOVO SN NACIONAL 550 km 89 \n",
            "8950               PARTIDA LA REDONDA SN\n",
            "8594                  AUTOVIA A52 KM 535\n",
            "8145             CARRETERA M111 KM 8 200\n",
            "4684          POLIGONO FINCA EQ SECTOR 9\n",
            "Name: Direccion, dtype: object\n"
          ]
        }
      ]
    },
    {
      "cell_type": "markdown",
      "source": [
        "5. **Margen**: Solo toma los valores D, I y N. Por tanto, es una variable cualitativa  o categórica."
      ],
      "metadata": {
        "id": "6FuHh2aFPOLl"
      }
    },
    {
      "cell_type": "code",
      "source": [
        "print(df['Margen'].sample(5))"
      ],
      "metadata": {
        "colab": {
          "base_uri": "https://localhost:8080/"
        },
        "id": "-nSBB6IqPkmu",
        "outputId": "51d3c2c4-c157-4263-9884-62add1460be2"
      },
      "execution_count": 21,
      "outputs": [
        {
          "output_type": "stream",
          "name": "stdout",
          "text": [
            "7680    D\n",
            "1805    D\n",
            "8280    I\n",
            "9006    N\n",
            "8336    I\n",
            "Name: Margen, dtype: object\n"
          ]
        }
      ]
    },
    {
      "cell_type": "markdown",
      "source": [
        "6. **Toma_de_datos**: Contiene la fecha y hora en que se tomó el registro de la información. Sirve para clasificar el momento en que fue realizada la venta. Es una variable cualitativa o de atributo (clasificación)."
      ],
      "metadata": {
        "id": "JKT4AKCAQPR8"
      }
    },
    {
      "cell_type": "code",
      "source": [
        "print(df['Toma_de_datos'].sample(5))"
      ],
      "metadata": {
        "colab": {
          "base_uri": "https://localhost:8080/"
        },
        "id": "hwKrDI6vQMhn",
        "outputId": "9fc930ea-0af2-4398-d5b7-a688f2bec516"
      },
      "execution_count": 22,
      "outputs": [
        {
          "output_type": "stream",
          "name": "stdout",
          "text": [
            "6266    31 07 2020 1245\n",
            "3062    29 07 2020 1640\n",
            "4261    20 07 2020 2008\n",
            "6788    31 07 2020 2300\n",
            "8714    31 07 2020 1331\n",
            "Name: Toma_de_datos, dtype: object\n"
          ]
        }
      ]
    },
    {
      "cell_type": "markdown",
      "source": [
        "7. **Precio**: Indica el precio de la gasolina en euros. Es una medición numérica, por lo que es de tipo cuantitativo."
      ],
      "metadata": {
        "id": "7TWfyM4-QTvE"
      }
    },
    {
      "cell_type": "code",
      "source": [
        "print(df['Precio'].sample(5))"
      ],
      "metadata": {
        "colab": {
          "base_uri": "https://localhost:8080/"
        },
        "id": "HP-8hWBKQTBx",
        "outputId": "34aae4a4-046e-41bb-ee08-70d22706f976"
      },
      "execution_count": 23,
      "outputs": [
        {
          "output_type": "stream",
          "name": "stdout",
          "text": [
            "7142    1,199\n",
            "3320    1,149\n",
            "9302    1,239\n",
            "5483    1,179\n",
            "8723    1,229\n",
            "Name: Precio, dtype: object\n"
          ]
        }
      ]
    },
    {
      "cell_type": "markdown",
      "source": [
        "8. **Rotulo**: Identifica el nombre del establecimiento en que se realizó la venta. No tiene ningun orden. Se trata de una variable cualitativa"
      ],
      "metadata": {
        "id": "7OMrtkSmQc0A"
      }
    },
    {
      "cell_type": "code",
      "source": [
        "print(df['Rotulo'].sample(5))"
      ],
      "metadata": {
        "colab": {
          "base_uri": "https://localhost:8080/"
        },
        "id": "zn1E--OVPleZ",
        "outputId": "7591e9b9-f95b-483a-8dc4-e3c32f0df11a"
      },
      "execution_count": 24,
      "outputs": [
        {
          "output_type": "stream",
          "name": "stdout",
          "text": [
            "3065                   CARREFOUR\n",
            "6929    AGLAES VIRGEN DE CUADROS\n",
            "1221    RURAL SAN VICENTE FERRER\n",
            "9868                      GRATSA\n",
            "8022                      REPSOL\n",
            "Name: Rotulo, dtype: object\n"
          ]
        }
      ]
    },
    {
      "cell_type": "markdown",
      "source": [
        "9. **Tipo_venta**: Variable que identifica la forma en que se realizo la venta. solo toma dos valores, P y R. Se trata de una variable cualitativa binaria."
      ],
      "metadata": {
        "id": "3QmQODSRQj33"
      }
    },
    {
      "cell_type": "code",
      "source": [
        "print(df['Tipo_venta'].sample(5))"
      ],
      "metadata": {
        "colab": {
          "base_uri": "https://localhost:8080/"
        },
        "id": "wNuS-7AoPrnJ",
        "outputId": "4ba8739a-9dd8-4460-a001-6cf787ab54d4"
      },
      "execution_count": 25,
      "outputs": [
        {
          "output_type": "stream",
          "name": "stdout",
          "text": [
            "7867    P\n",
            "1981    P\n",
            "2055    P\n",
            "8141    P\n",
            "5134    P\n",
            "Name: Tipo_venta, dtype: object\n"
          ]
        }
      ]
    },
    {
      "cell_type": "markdown",
      "source": [
        "10. **Rem**: Registra si los datos proceden de un operador mayorista o minorista. Solo toma los valores OM y DM. Por tanto, se trata de una variable cualitativa binaria."
      ],
      "metadata": {
        "id": "wFarCbaOQ0Ym"
      }
    },
    {
      "cell_type": "code",
      "source": [
        "print(df['Rem'].sample(5))"
      ],
      "metadata": {
        "colab": {
          "base_uri": "https://localhost:8080/"
        },
        "id": "p29H0UBWQ0yI",
        "outputId": "905cab31-4ebd-4970-a8b7-84663482e01e"
      },
      "execution_count": 26,
      "outputs": [
        {
          "output_type": "stream",
          "name": "stdout",
          "text": [
            "9051    dm\n",
            "2647    dm\n",
            "4382    OM\n",
            "967     dm\n",
            "1285    dm\n",
            "Name: Rem, dtype: object\n"
          ]
        }
      ]
    },
    {
      "cell_type": "markdown",
      "source": [
        "11. **Horario**: Identifica los dias de la semana y el horario de operacion de la estacion de servicio. Se trata de una variable cualitativa o de atributo."
      ],
      "metadata": {
        "id": "IbTyV3EDRBd0"
      }
    },
    {
      "cell_type": "code",
      "source": [
        "print(df['Horario'].sample(5))"
      ],
      "metadata": {
        "colab": {
          "base_uri": "https://localhost:8080/"
        },
        "id": "dw1zsTaTRAKw",
        "outputId": "3955a7f7-0c3a-417c-a4a4-ab72946f0416"
      },
      "execution_count": 27,
      "outputs": [
        {
          "output_type": "stream",
          "name": "stdout",
          "text": [
            "5103                L 07002100\n",
            "543                     LD 24H\n",
            "5994               LD 06302230\n",
            "1022                    LD 24H\n",
            "3526    LV 07002200 S 08001300\n",
            "Name: Horario, dtype: object\n"
          ]
        }
      ]
    },
    {
      "cell_type": "markdown",
      "source": [
        "12. **Tipo_servicio**: Identifica la forma en que es realizado el serivicio en la estacion. Toma los valores P,A,D. Se trata de una variable cualitativa categórica o de clasificación."
      ],
      "metadata": {
        "id": "ibUwVQmjRGQB"
      }
    },
    {
      "cell_type": "code",
      "source": [
        "print(df['Tipo_servicio'].sample(5))"
      ],
      "metadata": {
        "colab": {
          "base_uri": "https://localhost:8080/"
        },
        "id": "XXKvg-9cRMSN",
        "outputId": "3f9f07f3-3fd5-453b-ceca-d14a4caecb52"
      },
      "execution_count": 28,
      "outputs": [
        {
          "output_type": "stream",
          "name": "stdout",
          "text": [
            "4173                         LD 24H  A \n",
            "783                          LD 24H  D \n",
            "3431                    LD 06002200  A \n",
            "5158    LV 06302300  A  SD 07002300  A \n",
            "8992                    LD 06002359  A \n",
            "Name: Tipo_servicio, dtype: object\n"
          ]
        }
      ]
    },
    {
      "cell_type": "markdown",
      "source": [
        "13. **Fecha_extraccion**: Indica la fecha y hora de la extracción de la información. Sirve solo para saber el momento en que se extrajo la información. Se trata de una variable cualitativa."
      ],
      "metadata": {
        "id": "ATXI982wRM2N"
      }
    },
    {
      "cell_type": "code",
      "source": [
        "print(df['Fecha_extraccion'].sample(5))"
      ],
      "metadata": {
        "colab": {
          "base_uri": "https://localhost:8080/"
        },
        "id": "cKhbvGnARRHW",
        "outputId": "c5626e06-e603-4402-ffcb-d5f7e778221e"
      },
      "execution_count": 29,
      "outputs": [
        {
          "output_type": "stream",
          "name": "stdout",
          "text": [
            "3417    01 08 2020\n",
            "9492    01 08 2020\n",
            "1125    01 08 2020\n",
            "4385    01 08 2020\n",
            "1484    01 08 2020\n",
            "Name: Fecha_extraccion, dtype: object\n"
          ]
        }
      ]
    },
    {
      "cell_type": "markdown",
      "source": [
        "#Ejercicio 3\n",
        "Crear una tabla de frecuencias y el gráfico correspondiente para cada una de las variables siguientes: provincia, margen y precio."
      ],
      "metadata": {
        "id": "JjFrRk6ch3Vn"
      }
    },
    {
      "cell_type": "markdown",
      "source": [
        "##3.1 Tabla de frecuencias y gráfico"
      ],
      "metadata": {
        "id": "_YcyyxJ5iErz"
      }
    },
    {
      "cell_type": "markdown",
      "source": [
        "##Provincia"
      ],
      "metadata": {
        "id": "F3rQrMz4o722"
      }
    },
    {
      "cell_type": "markdown",
      "source": [
        "###Frecuencia"
      ],
      "metadata": {
        "id": "iXKxpht-pH3W"
      }
    },
    {
      "cell_type": "code",
      "source": [
        "print(df[\"Provincia\"].value_counts())"
      ],
      "metadata": {
        "colab": {
          "base_uri": "https://localhost:8080/"
        },
        "id": "gipqxdiBiEX9",
        "outputId": "1cadaaca-f3de-4c2b-b26c-07a9327e0c2e"
      },
      "execution_count": 41,
      "outputs": [
        {
          "output_type": "stream",
          "name": "stdout",
          "text": [
            "Provincia\n",
            "MADRID                    730\n",
            "BARCELONA                 723\n",
            "VALENCIA                  568\n",
            "ALICANTE                  408\n",
            "SEVILLA                   385\n",
            "MURCIA                    384\n",
            "MALAGA                    296\n",
            "CORUNA A                  257\n",
            "GRANADA                   250\n",
            "CADIZ                     244\n",
            "GIRONA                    243\n",
            "TOLEDO                    235\n",
            "PALMAS LAS                231\n",
            "JAEN                      225\n",
            "SANTA CRUZ DE TENERIFE    223\n",
            "TARRAGONA                 212\n",
            "ZARAGOZA                  212\n",
            "BADAJOZ                   207\n",
            "ASTURIAS                  203\n",
            "NAVARRA                   202\n",
            "CORDOBA                   195\n",
            "BALEARS ILLES             194\n",
            "ALMERIA                   184\n",
            "PONTEVEDRA                184\n",
            "CIUDAD REAL               183\n",
            "CASTELLON  CASTELLO       172\n",
            "LLEIDA                    166\n",
            "LEON                      159\n",
            "CANTABRIA                 143\n",
            "ALBACETE                  133\n",
            "CACERES                   131\n",
            "BURGOS                    129\n",
            "VALLADOLID                127\n",
            "HUELVA                    120\n",
            "LUGO                      118\n",
            "BIZKAIA                   117\n",
            "GIPUZKOA                  112\n",
            "CUENCA                    107\n",
            "HUESCA                    104\n",
            "SALAMANCA                  96\n",
            "GUADALAJARA                80\n",
            "OURENSE                    80\n",
            "ZAMORA                     73\n",
            "SEGOVIA                    71\n",
            "RIOJA LA                   70\n",
            "TERUEL                     62\n",
            "PALENCIA                   62\n",
            "AVILA                      62\n",
            "ARABA ALAVA                61\n",
            "SORIA                      36\n",
            "MELILLA                    13\n",
            "CEUTA                       9\n",
            "Name: count, dtype: int64\n"
          ]
        }
      ]
    },
    {
      "cell_type": "markdown",
      "source": [
        "###Gráfico"
      ],
      "metadata": {
        "id": "huwVTMWmmdUp"
      }
    },
    {
      "cell_type": "code",
      "source": [
        "sns.countplot(x=df[\"Provincia\"],edgecolor='black')\n",
        "plt.title(\"Frecuencia de Provincia\")\n",
        "plt.xlabel(\"\")\n",
        "plt.ylabel(\"Frecuencia\")\n",
        "plt.show()"
      ],
      "metadata": {
        "colab": {
          "base_uri": "https://localhost:8080/",
          "height": 452
        },
        "id": "9q9ZL7rLkQtZ",
        "outputId": "dc3f9107-9766-4158-b5a0-10963748882e"
      },
      "execution_count": 42,
      "outputs": [
        {
          "output_type": "display_data",
          "data": {
            "text/plain": [
              "<Figure size 640x480 with 1 Axes>"
            ],
            "image/png": "[encoded data removed]"
          },
          "metadata": {}
        }
      ]
    },
    {
      "cell_type": "markdown",
      "source": [
        "##Margen"
      ],
      "metadata": {
        "id": "apmVaE7XjVl6"
      }
    },
    {
      "cell_type": "markdown",
      "source": [
        "###Frecuencia"
      ],
      "metadata": {
        "id": "2tJg4MgbptBT"
      }
    },
    {
      "cell_type": "code",
      "source": [
        "print(df[\"Margen\"].value_counts())"
      ],
      "metadata": {
        "colab": {
          "base_uri": "https://localhost:8080/"
        },
        "id": "4Xi99qqYjjNP",
        "outputId": "9806f7ef-898e-4c07-d0cf-aff5c0194371"
      },
      "execution_count": 43,
      "outputs": [
        {
          "output_type": "stream",
          "name": "stdout",
          "text": [
            "Margen\n",
            "D    5016\n",
            "I    2596\n",
            "N    2379\n",
            "Name: count, dtype: int64\n"
          ]
        }
      ]
    },
    {
      "cell_type": "markdown",
      "source": [
        "###Gráfico"
      ],
      "metadata": {
        "id": "Jov3gRq6mwZm"
      }
    },
    {
      "cell_type": "code",
      "source": [
        "sns.countplot(x=df[\"Margen\"],edgecolor='black')\n",
        "plt.title(\"Frecuencia de Margen\")\n",
        "plt.xlabel(\"Margen\")\n",
        "plt.ylabel(\"Frecuencia\")\n",
        "plt.show()"
      ],
      "metadata": {
        "colab": {
          "base_uri": "https://localhost:8080/",
          "height": 472
        },
        "id": "a2_SAbCOm3LX",
        "outputId": "b5b857f8-06cc-4416-da80-7a3166ebf729"
      },
      "execution_count": 44,
      "outputs": [
        {
          "output_type": "display_data",
          "data": {
            "text/plain": [
              "<Figure size 640x480 with 1 Axes>"
            ],
            "image/png": "[encoded data removed]"
          },
          "metadata": {}
        }
      ]
    },
    {
      "cell_type": "markdown",
      "source": [
        "##Precio"
      ],
      "metadata": {
        "id": "V2d4Vow1p3UL"
      }
    },
    {
      "cell_type": "markdown",
      "source": [
        "###Frecuencia"
      ],
      "metadata": {
        "id": "iukFIV0JjwYx"
      }
    },
    {
      "cell_type": "code",
      "source": [
        "print(df[\"Precio\"].value_counts())"
      ],
      "metadata": {
        "colab": {
          "base_uri": "https://localhost:8080/"
        },
        "id": "7Vpw7MI3j1EQ",
        "outputId": "b11615f2-07c0-49d2-b418-460069254586"
      },
      "execution_count": 45,
      "outputs": [
        {
          "output_type": "stream",
          "name": "stdout",
          "text": [
            "Precio\n",
            "1,199    698\n",
            "1,179    687\n",
            "1,189    616\n",
            "1,169    582\n",
            "1,209    545\n",
            "        ... \n",
            "1,001      1\n",
            "0,973      1\n",
            "0,972      1\n",
            "0,970      1\n",
            "1,448      1\n",
            "Name: count, Length: 360, dtype: int64\n"
          ]
        }
      ]
    },
    {
      "cell_type": "markdown",
      "source": [
        "###Gráfico"
      ],
      "metadata": {
        "id": "UrgWhz1YiLIi"
      }
    },
    {
      "cell_type": "code",
      "source": [
        "plt.hist(df[\"Precio\"], bins=30, density=True, edgecolor='black')\n",
        "plt.title(\"Frecuencia de Precio\")\n",
        "plt.xlabel(\" \")\n",
        "plt.ylabel(\"Frecuencia\")\n",
        "plt.show()"
      ],
      "metadata": {
        "colab": {
          "base_uri": "https://localhost:8080/",
          "height": 472
        },
        "id": "nhjZBgmBiBy3",
        "outputId": "44fa548b-d4f3-4577-d500-1ac8f82fba30"
      },
      "execution_count": 47,
      "outputs": [
        {
          "output_type": "display_data",
          "data": {
            "text/plain": [
              "<Figure size 640x480 with 1 Axes>"
            ],
            "image/png": "[encoded data removed]"
          },
          "metadata": {}
        }
      ]
    }
  ]
}