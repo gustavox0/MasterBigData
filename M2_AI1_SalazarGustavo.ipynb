{
  "nbformat": 4,
  "nbformat_minor": 0,
  "metadata": {
    "colab": {
      "provenance": [],
      "toc_visible": true,
      "mount_file_id": "1cHqN0iBqzoF_3rpoZ9wyBKKdPHZK0H8y",
      "authorship_tag": "ABX9TyO7pZ82VaKyH8NZ7D5/4SWR",
      "include_colab_link": true
    },
    "kernelspec": {
      "name": "python3",
      "display_name": "Python 3"
    },
    "language_info": {
      "name": "python"
    }
  },
  "cells": [
    {
      "cell_type": "markdown",
      "metadata": {
        "id": "view-in-github",
        "colab_type": "text"
      },
      "source": [
        "<a href=\"https://colab.research.google.com/github/gustavox0/MasterBigData/blob/main/M2_AI1_SalazarGustavo.ipynb\" target=\"_parent\"><img src=\"https://colab.research.google.com/assets/colab-badge.svg\" alt=\"Open In Colab\"/></a>"
      ]
    },
    {
      "cell_type": "code",
      "source": [],
      "metadata": {
        "id": "n_R-iLLJ1bad"
      },
      "execution_count": null,
      "outputs": []
    },
    {
      "cell_type": "code",
      "source": [
        "#monto la carpeta de drive para trabajar los archivos desde ahí\n",
        "##Importante: modificar esto antes de enviar la tarea.\n",
        "from google.colab import drive\n",
        "drive.mount('/content/drive')"
      ],
      "metadata": {
        "colab": {
          "base_uri": "https://localhost:8080/"
        },
        "id": "QRf3Z6TTdczD",
        "outputId": "5968f15b-c48e-4ff2-d8da-17babce83bd3"
      },
      "execution_count": 3,
      "outputs": [
        {
          "output_type": "stream",
          "name": "stdout",
          "text": [
            "Drive already mounted at /content/drive; to attempt to forcibly remount, call drive.mount(\"/content/drive\", force_remount=True).\n"
          ]
        }
      ]
    },
    {
      "cell_type": "code",
      "execution_count": 75,
      "metadata": {
        "id": "zoP9_W2yX-Bd"
      },
      "outputs": [],
      "source": [
        "#Cargo los paquetes pandas y numpy como pd y np, respectivamente\n",
        "import pandas as pd\n",
        "import numpy as np\n",
        "import matplotlib.pyplot as plt\n",
        "import seaborn as sns"
      ]
    },
    {
      "cell_type": "code",
      "source": [
        "#Cargo la base de gasolinas\n",
        "df=pd.read_csv('/content/drive/My Drive/Colab Notebooks/Tema1MBDDS/precio_gasolina.csv',sep=';')\n",
        "df.head()"
      ],
      "metadata": {
        "colab": {
          "base_uri": "https://localhost:8080/",
          "height": 539
        },
        "id": "f6sTWB5xavUd",
        "outputId": "8247d159-577a-46e0-c5eb-19bc5f58c4a2"
      },
      "execution_count": 4,
      "outputs": [
        {
          "output_type": "execute_result",
          "data": {
            "text/plain": [
              "                Provincia                 Localidad  Codigo_postal  \\\n",
              "0  SANTA CRUZ DE TENERIFE         CUESTA LA                  38320   \n",
              "1  SANTA CRUZ DE TENERIFE                 LA LAGUNA          38200   \n",
              "2  SANTA CRUZ DE TENERIFE  SANTA CRUZ DE TENERIFE            38110   \n",
              "3  SANTA CRUZ DE TENERIFE  SANTA CRUZ DE TENERIFE            38010   \n",
              "4  SANTA CRUZ DE TENERIFE           ADEJE                    38670   \n",
              "\n",
              "                                      Direccion Margen    Toma_de_datos  \\\n",
              "0                      AVENIDA LOS MENCEYES 223      D  01 08 2020 1353   \n",
              "1                      CARRETERA TF111 KM 8 346      D  01 08 2020 0900   \n",
              "2              CALLE LAURA GROTE DE LA PUERTA 2      D  27 07 2020 1202   \n",
              "3                      POLIGONO EL MAYORAZGO SN      N  29 07 2020 0000   \n",
              "4  CALLE CHARFA ESQUINA AVENIDA LAS PALMITAS SN      D  27 07 2020 1159   \n",
              "\n",
              "  Precio         Rotulo Tipo_venta Rem                       Horario  \\\n",
              "0  0,758           PCAN          P  dm                        LD 24H   \n",
              "1  0,759         OCEANO          P  dm        LS 06002200 D 07002200   \n",
              "2  0,769          GMOIL          P  dm  LV 24H S 06002000 D 08001500   \n",
              "3  0,789  TGASTU TREBOL          P  dm        LS 07302100 D 08001400   \n",
              "4  0,789          GMOIL          P  dm        LS 07002200 D 09001600   \n",
              "\n",
              "                              Tipo_servicio Fecha_extraccion  \n",
              "0                                LD 24H  A        01 08 2020  \n",
              "1            LS 06002200  A  D 07002200  A        01 08 2020  \n",
              "2  LV 24H  A  S 06002000  A  D 08001500  A        01 08 2020  \n",
              "3            LS 07302100  A  D 08001400  A        01 08 2020  \n",
              "4            LS 07002200  A  D 09001600  A        01 08 2020  "
            ],
            "text/html": [
              "\n",
              "  <div id=\"df-c09342b4-ea59-4eed-9d5b-085d2748c967\" class=\"colab-df-container\">\n",
              "    <div>\n",
              "<style scoped>\n",
              "    .dataframe tbody tr th:only-of-type {\n",
              "        vertical-align: middle;\n",
              "    }\n",
              "\n",
              "    .dataframe tbody tr th {\n",
              "        vertical-align: top;\n",
              "    }\n",
              "\n",
              "    .dataframe thead th {\n",
              "        text-align: right;\n",
              "    }\n",
              "</style>\n",
              "<table border=\"1\" class=\"dataframe\">\n",
              "  <thead>\n",
              "    <tr style=\"text-align: right;\">\n",
              "      <th></th>\n",
              "      <th>Provincia</th>\n",
              "      <th>Localidad</th>\n",
              "      <th>Codigo_postal</th>\n",
              "      <th>Direccion</th>\n",
              "      <th>Margen</th>\n",
              "      <th>Toma_de_datos</th>\n",
              "      <th>Precio</th>\n",
              "      <th>Rotulo</th>\n",
              "      <th>Tipo_venta</th>\n",
              "      <th>Rem</th>\n",
              "      <th>Horario</th>\n",
              "      <th>Tipo_servicio</th>\n",
              "      <th>Fecha_extraccion</th>\n",
              "    </tr>\n",
              "  </thead>\n",
              "  <tbody>\n",
              "    <tr>\n",
              "      <th>0</th>\n",
              "      <td>SANTA CRUZ DE TENERIFE</td>\n",
              "      <td>CUESTA LA</td>\n",
              "      <td>38320</td>\n",
              "      <td>AVENIDA LOS MENCEYES 223</td>\n",
              "      <td>D</td>\n",
              "      <td>01 08 2020 1353</td>\n",
              "      <td>0,758</td>\n",
              "      <td>PCAN</td>\n",
              "      <td>P</td>\n",
              "      <td>dm</td>\n",
              "      <td>LD 24H</td>\n",
              "      <td>LD 24H  A</td>\n",
              "      <td>01 08 2020</td>\n",
              "    </tr>\n",
              "    <tr>\n",
              "      <th>1</th>\n",
              "      <td>SANTA CRUZ DE TENERIFE</td>\n",
              "      <td>LA LAGUNA</td>\n",
              "      <td>38200</td>\n",
              "      <td>CARRETERA TF111 KM 8 346</td>\n",
              "      <td>D</td>\n",
              "      <td>01 08 2020 0900</td>\n",
              "      <td>0,759</td>\n",
              "      <td>OCEANO</td>\n",
              "      <td>P</td>\n",
              "      <td>dm</td>\n",
              "      <td>LS 06002200 D 07002200</td>\n",
              "      <td>LS 06002200  A  D 07002200  A</td>\n",
              "      <td>01 08 2020</td>\n",
              "    </tr>\n",
              "    <tr>\n",
              "      <th>2</th>\n",
              "      <td>SANTA CRUZ DE TENERIFE</td>\n",
              "      <td>SANTA CRUZ DE TENERIFE</td>\n",
              "      <td>38110</td>\n",
              "      <td>CALLE LAURA GROTE DE LA PUERTA 2</td>\n",
              "      <td>D</td>\n",
              "      <td>27 07 2020 1202</td>\n",
              "      <td>0,769</td>\n",
              "      <td>GMOIL</td>\n",
              "      <td>P</td>\n",
              "      <td>dm</td>\n",
              "      <td>LV 24H S 06002000 D 08001500</td>\n",
              "      <td>LV 24H  A  S 06002000  A  D 08001500  A</td>\n",
              "      <td>01 08 2020</td>\n",
              "    </tr>\n",
              "    <tr>\n",
              "      <th>3</th>\n",
              "      <td>SANTA CRUZ DE TENERIFE</td>\n",
              "      <td>SANTA CRUZ DE TENERIFE</td>\n",
              "      <td>38010</td>\n",
              "      <td>POLIGONO EL MAYORAZGO SN</td>\n",
              "      <td>N</td>\n",
              "      <td>29 07 2020 0000</td>\n",
              "      <td>0,789</td>\n",
              "      <td>TGASTU TREBOL</td>\n",
              "      <td>P</td>\n",
              "      <td>dm</td>\n",
              "      <td>LS 07302100 D 08001400</td>\n",
              "      <td>LS 07302100  A  D 08001400  A</td>\n",
              "      <td>01 08 2020</td>\n",
              "    </tr>\n",
              "    <tr>\n",
              "      <th>4</th>\n",
              "      <td>SANTA CRUZ DE TENERIFE</td>\n",
              "      <td>ADEJE</td>\n",
              "      <td>38670</td>\n",
              "      <td>CALLE CHARFA ESQUINA AVENIDA LAS PALMITAS SN</td>\n",
              "      <td>D</td>\n",
              "      <td>27 07 2020 1159</td>\n",
              "      <td>0,789</td>\n",
              "      <td>GMOIL</td>\n",
              "      <td>P</td>\n",
              "      <td>dm</td>\n",
              "      <td>LS 07002200 D 09001600</td>\n",
              "      <td>LS 07002200  A  D 09001600  A</td>\n",
              "      <td>01 08 2020</td>\n",
              "    </tr>\n",
              "  </tbody>\n",
              "</table>\n",
              "</div>\n",
              "    <div class=\"colab-df-buttons\">\n",
              "\n",
              "  <div class=\"colab-df-container\">\n",
              "    <button class=\"colab-df-convert\" onclick=\"convertToInteractive('df-c09342b4-ea59-4eed-9d5b-085d2748c967')\"\n",
              "            title=\"Convert this dataframe to an interactive table.\"\n",
              "            style=\"display:none;\">\n",
              "\n",
              "  <svg xmlns=\"http://www.w3.org/2000/svg\" height=\"24px\" viewBox=\"0 -960 960 960\">\n",
              "    <path d=\"M120-120v-720h720v720H120Zm60-500h600v-160H180v160Zm220 220h160v-160H400v160Zm0 220h160v-160H400v160ZM180-400h160v-160H180v160Zm440 0h160v-160H620v160ZM180-180h160v-160H180v160Zm440 0h160v-160H620v160Z\"/>\n",
              "  </svg>\n",
              "    </button>\n",
              "\n",
              "  <style>\n",
              "    .colab-df-container {\n",
              "      display:flex;\n",
              "      gap: 12px;\n",
              "    }\n",
              "\n",
              "    .colab-df-convert {\n",
              "      background-color: #E8F0FE;\n",
              "      border: none;\n",
              "      border-radius: 50%;\n",
              "      cursor: pointer;\n",
              "      display: none;\n",
              "      fill: #1967D2;\n",
              "      height: 32px;\n",
              "      padding: 0 0 0 0;\n",
              "      width: 32px;\n",
              "    }\n",
              "\n",
              "    .colab-df-convert:hover {\n",
              "      background-color: #E2EBFA;\n",
              "      box-shadow: 0px 1px 2px rgba(60, 64, 67, 0.3), 0px 1px 3px 1px rgba(60, 64, 67, 0.15);\n",
              "      fill: #174EA6;\n",
              "    }\n",
              "\n",
              "    .colab-df-buttons div {\n",
              "      margin-bottom: 4px;\n",
              "    }\n",
              "\n",
              "    [theme=dark] .colab-df-convert {\n",
              "      background-color: #3B4455;\n",
              "      fill: #D2E3FC;\n",
              "    }\n",
              "\n",
              "    [theme=dark] .colab-df-convert:hover {\n",
              "      background-color: #434B5C;\n",
              "      box-shadow: 0px 1px 3px 1px rgba(0, 0, 0, 0.15);\n",
              "      filter: drop-shadow(0px 1px 2px rgba(0, 0, 0, 0.3));\n",
              "      fill: #FFFFFF;\n",
              "    }\n",
              "  </style>\n",
              "\n",
              "    <script>\n",
              "      const buttonEl =\n",
              "        document.querySelector('#df-c09342b4-ea59-4eed-9d5b-085d2748c967 button.colab-df-convert');\n",
              "      buttonEl.style.display =\n",
              "        google.colab.kernel.accessAllowed ? 'block' : 'none';\n",
              "\n",
              "      async function convertToInteractive(key) {\n",
              "        const element = document.querySelector('#df-c09342b4-ea59-4eed-9d5b-085d2748c967');\n",
              "        const dataTable =\n",
              "          await google.colab.kernel.invokeFunction('convertToInteractive',\n",
              "                                                    [key], {});\n",
              "        if (!dataTable) return;\n",
              "\n",
              "        const docLinkHtml = 'Like what you see? Visit the ' +\n",
              "          '<a target=\"_blank\" href=https://colab.research.google.com/notebooks/data_table.ipynb>data table notebook</a>'\n",
              "          + ' to learn more about interactive tables.';\n",
              "        element.innerHTML = '';\n",
              "        dataTable['output_type'] = 'display_data';\n",
              "        await google.colab.output.renderOutput(dataTable, element);\n",
              "        const docLink = document.createElement('div');\n",
              "        docLink.innerHTML = docLinkHtml;\n",
              "        element.appendChild(docLink);\n",
              "      }\n",
              "    </script>\n",
              "  </div>\n",
              "\n",
              "\n",
              "<div id=\"df-bde9d590-bbc7-46f8-9b8e-2edc86f95dc7\">\n",
              "  <button class=\"colab-df-quickchart\" onclick=\"quickchart('df-bde9d590-bbc7-46f8-9b8e-2edc86f95dc7')\"\n",
              "            title=\"Suggest charts\"\n",
              "            style=\"display:none;\">\n",
              "\n",
              "<svg xmlns=\"http://www.w3.org/2000/svg\" height=\"24px\"viewBox=\"0 0 24 24\"\n",
              "     width=\"24px\">\n",
              "    <g>\n",
              "        <path d=\"M19 3H5c-1.1 0-2 .9-2 2v14c0 1.1.9 2 2 2h14c1.1 0 2-.9 2-2V5c0-1.1-.9-2-2-2zM9 17H7v-7h2v7zm4 0h-2V7h2v10zm4 0h-2v-4h2v4z\"/>\n",
              "    </g>\n",
              "</svg>\n",
              "  </button>\n",
              "\n",
              "<style>\n",
              "  .colab-df-quickchart {\n",
              "      --bg-color: #E8F0FE;\n",
              "      --fill-color: #1967D2;\n",
              "      --hover-bg-color: #E2EBFA;\n",
              "      --hover-fill-color: #174EA6;\n",
              "      --disabled-fill-color: #AAA;\n",
              "      --disabled-bg-color: #DDD;\n",
              "  }\n",
              "\n",
              "  [theme=dark] .colab-df-quickchart {\n",
              "      --bg-color: #3B4455;\n",
              "      --fill-color: #D2E3FC;\n",
              "      --hover-bg-color: #434B5C;\n",
              "      --hover-fill-color: #FFFFFF;\n",
              "      --disabled-bg-color: #3B4455;\n",
              "      --disabled-fill-color: #666;\n",
              "  }\n",
              "\n",
              "  .colab-df-quickchart {\n",
              "    background-color: var(--bg-color);\n",
              "    border: none;\n",
              "    border-radius: 50%;\n",
              "    cursor: pointer;\n",
              "    display: none;\n",
              "    fill: var(--fill-color);\n",
              "    height: 32px;\n",
              "    padding: 0;\n",
              "    width: 32px;\n",
              "  }\n",
              "\n",
              "  .colab-df-quickchart:hover {\n",
              "    background-color: var(--hover-bg-color);\n",
              "    box-shadow: 0 1px 2px rgba(60, 64, 67, 0.3), 0 1px 3px 1px rgba(60, 64, 67, 0.15);\n",
              "    fill: var(--button-hover-fill-color);\n",
              "  }\n",
              "\n",
              "  .colab-df-quickchart-complete:disabled,\n",
              "  .colab-df-quickchart-complete:disabled:hover {\n",
              "    background-color: var(--disabled-bg-color);\n",
              "    fill: var(--disabled-fill-color);\n",
              "    box-shadow: none;\n",
              "  }\n",
              "\n",
              "  .colab-df-spinner {\n",
              "    border: 2px solid var(--fill-color);\n",
              "    border-color: transparent;\n",
              "    border-bottom-color: var(--fill-color);\n",
              "    animation:\n",
              "      spin 1s steps(1) infinite;\n",
              "  }\n",
              "\n",
              "  @keyframes spin {\n",
              "    0% {\n",
              "      border-color: transparent;\n",
              "      border-bottom-color: var(--fill-color);\n",
              "      border-left-color: var(--fill-color);\n",
              "    }\n",
              "    20% {\n",
              "      border-color: transparent;\n",
              "      border-left-color: var(--fill-color);\n",
              "      border-top-color: var(--fill-color);\n",
              "    }\n",
              "    30% {\n",
              "      border-color: transparent;\n",
              "      border-left-color: var(--fill-color);\n",
              "      border-top-color: var(--fill-color);\n",
              "      border-right-color: var(--fill-color);\n",
              "    }\n",
              "    40% {\n",
              "      border-color: transparent;\n",
              "      border-right-color: var(--fill-color);\n",
              "      border-top-color: var(--fill-color);\n",
              "    }\n",
              "    60% {\n",
              "      border-color: transparent;\n",
              "      border-right-color: var(--fill-color);\n",
              "    }\n",
              "    80% {\n",
              "      border-color: transparent;\n",
              "      border-right-color: var(--fill-color);\n",
              "      border-bottom-color: var(--fill-color);\n",
              "    }\n",
              "    90% {\n",
              "      border-color: transparent;\n",
              "      border-bottom-color: var(--fill-color);\n",
              "    }\n",
              "  }\n",
              "</style>\n",
              "\n",
              "  <script>\n",
              "    async function quickchart(key) {\n",
              "      const quickchartButtonEl =\n",
              "        document.querySelector('#' + key + ' button');\n",
              "      quickchartButtonEl.disabled = true;  // To prevent multiple clicks.\n",
              "      quickchartButtonEl.classList.add('colab-df-spinner');\n",
              "      try {\n",
              "        const charts = await google.colab.kernel.invokeFunction(\n",
              "            'suggestCharts', [key], {});\n",
              "      } catch (error) {\n",
              "        console.error('Error during call to suggestCharts:', error);\n",
              "      }\n",
              "      quickchartButtonEl.classList.remove('colab-df-spinner');\n",
              "      quickchartButtonEl.classList.add('colab-df-quickchart-complete');\n",
              "    }\n",
              "    (() => {\n",
              "      let quickchartButtonEl =\n",
              "        document.querySelector('#df-bde9d590-bbc7-46f8-9b8e-2edc86f95dc7 button');\n",
              "      quickchartButtonEl.style.display =\n",
              "        google.colab.kernel.accessAllowed ? 'block' : 'none';\n",
              "    })();\n",
              "  </script>\n",
              "</div>\n",
              "\n",
              "    </div>\n",
              "  </div>\n"
            ],
            "application/vnd.google.colaboratory.intrinsic+json": {
              "type": "dataframe",
              "variable_name": "df",
              "summary": "{\n  \"name\": \"df\",\n  \"rows\": 9991,\n  \"fields\": [\n    {\n      \"column\": \"Provincia\",\n      \"properties\": {\n        \"dtype\": \"category\",\n        \"num_unique_values\": 52,\n        \"samples\": [\n          \"GUADALAJARA\",\n          \"CACERES\",\n          \"SEGOVIA\"\n        ],\n        \"semantic_type\": \"\",\n        \"description\": \"\"\n      }\n    },\n    {\n      \"column\": \"Localidad\",\n      \"properties\": {\n        \"dtype\": \"category\",\n        \"num_unique_values\": 3887,\n        \"samples\": [\n          \"COCENTAINA        \",\n          \"CORCA          \",\n          \"ISLARES         \"\n        ],\n        \"semantic_type\": \"\",\n        \"description\": \"\"\n      }\n    },\n    {\n      \"column\": \"Codigo_postal\",\n      \"properties\": {\n        \"dtype\": \"number\",\n        \"std\": 14396,\n        \"min\": 1002,\n        \"max\": 52006,\n        \"num_unique_values\": 4198,\n        \"samples\": [\n          10140,\n          26000,\n          16470\n        ],\n        \"semantic_type\": \"\",\n        \"description\": \"\"\n      }\n    },\n    {\n      \"column\": \"Direccion\",\n      \"properties\": {\n        \"dtype\": \"string\",\n        \"num_unique_values\": 9699,\n        \"samples\": [\n          \"CALLE TRATADO DE PARIS 6\",\n          \"AVENIDA FUENTE NUEVA 18\",\n          \"AVENIDA ENRIC PRAT DE LA RIBA 10\"\n        ],\n        \"semantic_type\": \"\",\n        \"description\": \"\"\n      }\n    },\n    {\n      \"column\": \"Margen\",\n      \"properties\": {\n        \"dtype\": \"category\",\n        \"num_unique_values\": 3,\n        \"samples\": [\n          \"D\",\n          \"N\",\n          \"I\"\n        ],\n        \"semantic_type\": \"\",\n        \"description\": \"\"\n      }\n    },\n    {\n      \"column\": \"Toma_de_datos\",\n      \"properties\": {\n        \"dtype\": \"category\",\n        \"num_unique_values\": 2800,\n        \"samples\": [\n          \"27 07 2020 1335\",\n          \"27 07 2020 1530\",\n          \"23 07 2020 1356\"\n        ],\n        \"semantic_type\": \"\",\n        \"description\": \"\"\n      }\n    },\n    {\n      \"column\": \"Precio\",\n      \"properties\": {\n        \"dtype\": \"category\",\n        \"num_unique_values\": 360,\n        \"samples\": [\n          \"1,138\",\n          \"0,908\",\n          \"1,199\"\n        ],\n        \"semantic_type\": \"\",\n        \"description\": \"\"\n      }\n    },\n    {\n      \"column\": \"Rotulo\",\n      \"properties\": {\n        \"dtype\": \"category\",\n        \"num_unique_values\": 2850,\n        \"samples\": [\n          \"BENCINAS MESTRETS\",\n          \"SCA SIERRA DE LA PANDERA\",\n          \"MASOIL BENISA\"\n        ],\n        \"semantic_type\": \"\",\n        \"description\": \"\"\n      }\n    },\n    {\n      \"column\": \"Tipo_venta\",\n      \"properties\": {\n        \"dtype\": \"category\",\n        \"num_unique_values\": 5,\n        \"samples\": [\n          \"A\",\n          \"p\",\n          \"R\"\n        ],\n        \"semantic_type\": \"\",\n        \"description\": \"\"\n      }\n    },\n    {\n      \"column\": \"Rem\",\n      \"properties\": {\n        \"dtype\": \"category\",\n        \"num_unique_values\": 2,\n        \"samples\": [\n          \"OM\",\n          \"dm\"\n        ],\n        \"semantic_type\": \"\",\n        \"description\": \"\"\n      }\n    },\n    {\n      \"column\": \"Horario\",\n      \"properties\": {\n        \"dtype\": \"category\",\n        \"num_unique_values\": 1309,\n        \"samples\": [\n          \"LD 08302100\",\n          \"LV 06302130\"\n        ],\n        \"semantic_type\": \"\",\n        \"description\": \"\"\n      }\n    },\n    {\n      \"column\": \"Tipo_servicio\",\n      \"properties\": {\n        \"dtype\": \"category\",\n        \"num_unique_values\": 1613,\n        \"samples\": [\n          \"LV 06002200  P  SD 06002200  A \",\n          \"LS 06001900  P  D 08001900  P \"\n        ],\n        \"semantic_type\": \"\",\n        \"description\": \"\"\n      }\n    },\n    {\n      \"column\": \"Fecha_extraccion\",\n      \"properties\": {\n        \"dtype\": \"object\",\n        \"num_unique_values\": 1,\n        \"samples\": [\n          \"01 08 2020\"\n        ],\n        \"semantic_type\": \"\",\n        \"description\": \"\"\n      }\n    }\n  ]\n}"
            }
          },
          "metadata": {},
          "execution_count": 4
        }
      ]
    },
    {
      "cell_type": "code",
      "source": [
        "print(df.info())"
      ],
      "metadata": {
        "colab": {
          "base_uri": "https://localhost:8080/"
        },
        "id": "gLzjirRpgNPC",
        "outputId": "b8acafb2-69b6-429f-f9c6-5c5fbbd1961a"
      },
      "execution_count": 5,
      "outputs": [
        {
          "output_type": "stream",
          "name": "stdout",
          "text": [
            "<class 'pandas.core.frame.DataFrame'>\n",
            "RangeIndex: 9991 entries, 0 to 9990\n",
            "Data columns (total 13 columns):\n",
            " #   Column            Non-Null Count  Dtype \n",
            "---  ------            --------------  ----- \n",
            " 0   Provincia         9991 non-null   object\n",
            " 1   Localidad         9991 non-null   object\n",
            " 2   Codigo_postal     9991 non-null   int64 \n",
            " 3   Direccion         9991 non-null   object\n",
            " 4   Margen            9991 non-null   object\n",
            " 5   Toma_de_datos     9991 non-null   object\n",
            " 6   Precio            9991 non-null   object\n",
            " 7   Rotulo            9990 non-null   object\n",
            " 8   Tipo_venta        9991 non-null   object\n",
            " 9   Rem               9991 non-null   object\n",
            " 10  Horario           9991 non-null   object\n",
            " 11  Tipo_servicio     9845 non-null   object\n",
            " 12  Fecha_extraccion  9991 non-null   object\n",
            "dtypes: int64(1), object(12)\n",
            "memory usage: 1014.8+ KB\n",
            "None\n"
          ]
        }
      ]
    },
    {
      "cell_type": "markdown",
      "source": [
        "#Ejercicio 1\n",
        "Identifica el número total de observaciones y variables totales en el dataset. Calcula el número de nulos de cada variable.¿Qué aporta esta información?\n"
      ],
      "metadata": {
        "id": "Fr2lhgO652SC"
      }
    },
    {
      "cell_type": "markdown",
      "source": [
        "##1.1 Número total de observaciones y variables\n",
        "Para el total de observaciones y variables utilizo el atributo shape. Este atributo devuelve, en este caso,  el tamaño del arreglo (x,y), con **x** el número de observaciones y **y** el número de columnas."
      ],
      "metadata": {
        "id": "Bj_DN2_n6kba"
      }
    },
    {
      "cell_type": "code",
      "source": [
        "print(\"Número de observaciones\")\n",
        "print(df.shape[0])\n",
        "print(\"Número de observaciones\")\n",
        "df.shape[1]\n",
        "print(\"Nombre de las 13 variables\")\n",
        "print(df.columns)"
      ],
      "metadata": {
        "colab": {
          "base_uri": "https://localhost:8080/"
        },
        "id": "nbQGDYwC6Ucf",
        "outputId": "0a4b8d34-d27b-4918-8f9e-383ae6f936fb"
      },
      "execution_count": 24,
      "outputs": [
        {
          "output_type": "stream",
          "name": "stdout",
          "text": [
            "Número de observaciones\n",
            "9991\n",
            "Número de observaciones\n",
            "Nombre de las 13 variables\n",
            "Index(['Provincia', 'Localidad', 'Codigo_postal', 'Direccion', 'Margen',\n",
            "       'Toma_de_datos', 'Precio', 'Rotulo', 'Tipo_venta', 'Rem', 'Horario',\n",
            "       'Tipo_servicio', 'Fecha_extraccion'],\n",
            "      dtype='object')\n"
          ]
        }
      ]
    },
    {
      "cell_type": "markdown",
      "source": [
        "##1.2 Número de nulos por variable\n",
        "Para ver los valores nulos por variables, basta con indicar el conteo del data set. Este nos arroja los valores no nulos de cada variable"
      ],
      "metadata": {
        "id": "XPFPggJp6t8N"
      }
    },
    {
      "cell_type": "code",
      "source": [
        "print(\"Valores nulos por variable\")\n",
        "Nulos = df.isnull().sum()\n",
        "print(Nulos)"
      ],
      "metadata": {
        "colab": {
          "base_uri": "https://localhost:8080/"
        },
        "id": "3vSCAyqG6yjh",
        "outputId": "07cd3b31-fcc6-42b0-9220-783a5e627fe1"
      },
      "execution_count": 29,
      "outputs": [
        {
          "output_type": "stream",
          "name": "stdout",
          "text": [
            "Valores nulos por variable\n",
            "Provincia             0\n",
            "Localidad             0\n",
            "Codigo_postal         0\n",
            "Direccion             0\n",
            "Margen                0\n",
            "Toma_de_datos         0\n",
            "Precio                0\n",
            "Rotulo                1\n",
            "Tipo_venta            0\n",
            "Rem                   0\n",
            "Horario               0\n",
            "Tipo_servicio       146\n",
            "Fecha_extraccion      0\n",
            "dtype: int64\n"
          ]
        }
      ]
    },
    {
      "cell_type": "markdown",
      "source": [
        "##1.3 ¿Qué aporta esta información?\n",
        "**PENDIENTE**"
      ],
      "metadata": {
        "id": "Uh90q96i7BTB"
      }
    },
    {
      "cell_type": "markdown",
      "source": [
        "#Ejercicio 2\n",
        "Identifica el tipo de variables a nivel estadístico que corresponden cada una del dataset. Debes explicar el motivo por el cual haces dicha clasificación.\n",
        "Para clasificar cada variable, visualizo 5 datos aleatorios de los valores que toma cada una de ellas."
      ],
      "metadata": {
        "id": "VfFwJ91_Ed1k"
      }
    },
    {
      "cell_type": "markdown",
      "source": [
        "\n",
        "1. **Provincia**: Identifica el nombre de la provincia en que se realizó la venta. No establece ningun orden. Se trata de una variable cualitativa nominal o de atributo."
      ],
      "metadata": {
        "id": "62m8hwcpMAdv"
      }
    },
    {
      "cell_type": "code",
      "source": [
        "print(df['Provincia'].sample(5))"
      ],
      "metadata": {
        "colab": {
          "base_uri": "https://localhost:8080/"
        },
        "id": "CW4o__ZdMBIw",
        "outputId": "0afafcfd-a3e1-4770-b459-c5afd6d5fde7"
      },
      "execution_count": 55,
      "outputs": [
        {
          "output_type": "stream",
          "name": "stdout",
          "text": [
            "2504         MADRID\n",
            "1784        BADAJOZ\n",
            "3588    CIUDAD REAL\n",
            "7745           LUGO\n",
            "8107       ALICANTE\n",
            "Name: Provincia, dtype: object\n"
          ]
        }
      ]
    },
    {
      "cell_type": "markdown",
      "source": [
        "2. **Localidad**: Identifica la localidad en que se realizó la venta. No establece ningún orden. Se trata de una variable cualitativa o de atributo."
      ],
      "metadata": {
        "id": "dMZpQr-gNYqN"
      }
    },
    {
      "cell_type": "code",
      "source": [
        "print(df['Localidad'].sample(5))"
      ],
      "metadata": {
        "colab": {
          "base_uri": "https://localhost:8080/"
        },
        "id": "AmV4vKzaPDDo",
        "outputId": "481dc678-1339-48c1-8478-273a8dedb828"
      },
      "execution_count": 56,
      "outputs": [
        {
          "output_type": "stream",
          "name": "stdout",
          "text": [
            "2897         MADRID          \n",
            "1562    JARAIZ DE LA VERA    \n",
            "1073         GANDIA          \n",
            "7663         MALAGA          \n",
            "3110       SANTECILLA        \n",
            "Name: Localidad, dtype: object\n"
          ]
        }
      ]
    },
    {
      "cell_type": "markdown",
      "source": [
        "3. **Codigo_postal**: Identifica el código postal del lugar en que se realizó la venta. Es una variable cualitativa o de atributo"
      ],
      "metadata": {
        "id": "ERr30yXfEi9b"
      }
    },
    {
      "cell_type": "code",
      "source": [
        "print(df['Codigo_postal'].sample(5))"
      ],
      "metadata": {
        "colab": {
          "base_uri": "https://localhost:8080/"
        },
        "id": "P72SGZ5kPJym",
        "outputId": "a029892c-1827-4192-acc6-dc3c5a421e9e"
      },
      "execution_count": 57,
      "outputs": [
        {
          "output_type": "stream",
          "name": "stdout",
          "text": [
            "9073    28830\n",
            "5952    46014\n",
            "5487    30892\n",
            "2028     3160\n",
            "4866    15840\n",
            "Name: Codigo_postal, dtype: int64\n"
          ]
        }
      ]
    },
    {
      "cell_type": "markdown",
      "source": [
        "4. **Direccion**: Identifica el lugar especifico en que se realizó la venta (ubicación de la estación). Es una variable cualitativa o de atributo."
      ],
      "metadata": {
        "id": "LUT9vztGPKLF"
      }
    },
    {
      "cell_type": "code",
      "source": [
        "print(df['Direccion'].sample(5))"
      ],
      "metadata": {
        "colab": {
          "base_uri": "https://localhost:8080/"
        },
        "id": "vhZasCvXPN5n",
        "outputId": "c7225e62-9825-4840-8324-222bd49e78c2"
      },
      "execution_count": 58,
      "outputs": [
        {
          "output_type": "stream",
          "name": "stdout",
          "text": [
            "5981               CL CANI REAL 83\n",
            "9717      CALLE REAL DE ARGANDA 74\n",
            "90             CARRETERA TF1 KM 54\n",
            "2601        CARRETERA A382 KM 26 8\n",
            "1528    CALLE IGNASI BUXO GOU D' 4\n",
            "Name: Direccion, dtype: object\n"
          ]
        }
      ]
    },
    {
      "cell_type": "markdown",
      "source": [
        "5. **Margen**: Solo toma los valores D, I y N. Por tanto, es una variable cualitativa  o categórica."
      ],
      "metadata": {
        "id": "6FuHh2aFPOLl"
      }
    },
    {
      "cell_type": "code",
      "source": [
        "print(df['Margen'].sample(5))"
      ],
      "metadata": {
        "colab": {
          "base_uri": "https://localhost:8080/"
        },
        "id": "-nSBB6IqPkmu",
        "outputId": "363b772b-026e-4a2c-d6ea-3cbc43f081f8"
      },
      "execution_count": 60,
      "outputs": [
        {
          "output_type": "stream",
          "name": "stdout",
          "text": [
            "2593    N\n",
            "80      N\n",
            "8371    D\n",
            "1644    D\n",
            "4199    D\n",
            "Name: Margen, dtype: object\n"
          ]
        }
      ]
    },
    {
      "cell_type": "markdown",
      "source": [
        "6. **Toma_de_datos**: Contiene la fecha y hora en que se tomó el registro de la información. Sirve para clasificar el momento en que fue realizada la venta. Es una variable cualitativa o de atributo (clasificación)."
      ],
      "metadata": {
        "id": "JKT4AKCAQPR8"
      }
    },
    {
      "cell_type": "code",
      "source": [
        "print(df['Toma_de_datos'].sample(5))"
      ],
      "metadata": {
        "colab": {
          "base_uri": "https://localhost:8080/"
        },
        "id": "hwKrDI6vQMhn",
        "outputId": "05ae2787-d4ae-4919-e0ab-67b993eb03ee"
      },
      "execution_count": 61,
      "outputs": [
        {
          "output_type": "stream",
          "name": "stdout",
          "text": [
            "7240    20 07 2020 1316\n",
            "429     29 07 2020 1545\n",
            "404     27 07 2020 1026\n",
            "7309    27 07 2020 1325\n",
            "2317    01 08 2020 0000\n",
            "Name: Toma_de_datos, dtype: object\n"
          ]
        }
      ]
    },
    {
      "cell_type": "markdown",
      "source": [
        "7. **Precio**: Indica el precio de la gasolina en euros. Es una medición numérica, por lo que es de tipo cuantitativo."
      ],
      "metadata": {
        "id": "7TWfyM4-QTvE"
      }
    },
    {
      "cell_type": "code",
      "source": [
        "print(df['Precio'].sample(5))"
      ],
      "metadata": {
        "colab": {
          "base_uri": "https://localhost:8080/"
        },
        "id": "HP-8hWBKQTBx",
        "outputId": "739b0819-46b1-4d53-fea2-b2989ed8b194"
      },
      "execution_count": 62,
      "outputs": [
        {
          "output_type": "stream",
          "name": "stdout",
          "text": [
            "8168    1,219\n",
            "1512    1,087\n",
            "9370    1,239\n",
            "6283    1,189\n",
            "3812    1,159\n",
            "Name: Precio, dtype: object\n"
          ]
        }
      ]
    },
    {
      "cell_type": "markdown",
      "source": [
        "8. **Rotulo**: Identifica el nombre del establecimiento en que se realizó la venta. No tiene ningun orden. Se trata de una variable cualitativa"
      ],
      "metadata": {
        "id": "7OMrtkSmQc0A"
      }
    },
    {
      "cell_type": "code",
      "source": [
        "print(df['Rotulo'].sample(5))"
      ],
      "metadata": {
        "colab": {
          "base_uri": "https://localhost:8080/"
        },
        "id": "zn1E--OVPleZ",
        "outputId": "783067a7-93db-49cd-c4eb-5f545c5eb785"
      },
      "execution_count": 63,
      "outputs": [
        {
          "output_type": "stream",
          "name": "stdout",
          "text": [
            "5961                             REPSOL \n",
            "6484                             STAROIL\n",
            "129     ESTACION DE SERVICIOS EL MIRADOR\n",
            "9184                              REPSOL\n",
            "3560                              REPSOL\n",
            "Name: Rotulo, dtype: object\n"
          ]
        }
      ]
    },
    {
      "cell_type": "markdown",
      "source": [
        "9. **Tipo_venta**: Variable que identifica la forma en que se realizo la venta. solo toma dos valores, P y R. Se trata de una variable cualitativa binaria."
      ],
      "metadata": {
        "id": "3QmQODSRQj33"
      }
    },
    {
      "cell_type": "code",
      "source": [
        "print(df['Tipo_venta'].sample(5))"
      ],
      "metadata": {
        "colab": {
          "base_uri": "https://localhost:8080/"
        },
        "id": "wNuS-7AoPrnJ",
        "outputId": "cc93b787-1e9f-4467-e53e-b385a930716f"
      },
      "execution_count": 64,
      "outputs": [
        {
          "output_type": "stream",
          "name": "stdout",
          "text": [
            "8440    P\n",
            "679     P\n",
            "1223    P\n",
            "7341    P\n",
            "5496    P\n",
            "Name: Tipo_venta, dtype: object\n"
          ]
        }
      ]
    },
    {
      "cell_type": "markdown",
      "source": [
        "10. **Rem**: Registra si los datos proceden de un operador mayorista o minorista. Solo toma los valores OM y DM. Por tanto, se trata de una variable cualitativa binaria."
      ],
      "metadata": {
        "id": "wFarCbaOQ0Ym"
      }
    },
    {
      "cell_type": "code",
      "source": [
        "print(df['Rem'].sample(5))"
      ],
      "metadata": {
        "colab": {
          "base_uri": "https://localhost:8080/"
        },
        "id": "p29H0UBWQ0yI",
        "outputId": "b1fcf969-191c-4a16-f10b-1b2a2e5bead8"
      },
      "execution_count": 65,
      "outputs": [
        {
          "output_type": "stream",
          "name": "stdout",
          "text": [
            "9114    OM\n",
            "5619    OM\n",
            "3040    dm\n",
            "8422    OM\n",
            "4201    OM\n",
            "Name: Rem, dtype: object\n"
          ]
        }
      ]
    },
    {
      "cell_type": "markdown",
      "source": [
        "11. **Horario**: Identifica los dias de la semana y el horario de operacion de la estacion de servicio. Se trata de una variable cualitativa o de atributo."
      ],
      "metadata": {
        "id": "IbTyV3EDRBd0"
      }
    },
    {
      "cell_type": "code",
      "source": [
        "print(df['Horario'].sample(5))"
      ],
      "metadata": {
        "colab": {
          "base_uri": "https://localhost:8080/"
        },
        "id": "dw1zsTaTRAKw",
        "outputId": "940a987c-5705-4112-8ddf-82b99df43d1d"
      },
      "execution_count": 66,
      "outputs": [
        {
          "output_type": "stream",
          "name": "stdout",
          "text": [
            "6823    LD 06002200\n",
            "3442    LD 07302230\n",
            "1048         LD 24H\n",
            "6658    LD 06002200\n",
            "547          LD 24H\n",
            "Name: Horario, dtype: object\n"
          ]
        }
      ]
    },
    {
      "cell_type": "markdown",
      "source": [
        "12. **Tipo_servicio**: Identifica la forma en que es realizado el serivicio en la estacion. Toma los valores P,A,D. Se trata de una variable cualitativa categórica o de clasificación."
      ],
      "metadata": {
        "id": "ibUwVQmjRGQB"
      }
    },
    {
      "cell_type": "code",
      "source": [
        "print(df['Tipo_servicio'].sample(5))"
      ],
      "metadata": {
        "colab": {
          "base_uri": "https://localhost:8080/"
        },
        "id": "XXKvg-9cRMSN",
        "outputId": "aee86a3a-eb0e-42d9-f608-efce4b0d3041"
      },
      "execution_count": 67,
      "outputs": [
        {
          "output_type": "stream",
          "name": "stdout",
          "text": [
            "2373                                  LD 06002300  P \n",
            "4882    LV 06152300  A  S 07000000  A  D 07002300  A \n",
            "5885                                  LD 06002200  A \n",
            "5127                                  LD 06302230  A \n",
            "3473                                  LD 07000000  A \n",
            "Name: Tipo_servicio, dtype: object\n"
          ]
        }
      ]
    },
    {
      "cell_type": "markdown",
      "source": [
        "13. **Fecha_extraccion**: Indica la fecha y hora de la extracción de la información. Sirve solo para saber el momento en que se extrajo la información. Se trata de una variable cualitativa."
      ],
      "metadata": {
        "id": "ATXI982wRM2N"
      }
    },
    {
      "cell_type": "code",
      "source": [
        "print(df['Fecha_extraccion'].sample(5))"
      ],
      "metadata": {
        "colab": {
          "base_uri": "https://localhost:8080/"
        },
        "id": "cKhbvGnARRHW",
        "outputId": "09c82a55-ceb6-4057-d59b-44e26dd8a520"
      },
      "execution_count": 68,
      "outputs": [
        {
          "output_type": "stream",
          "name": "stdout",
          "text": [
            "1784    01 08 2020\n",
            "1449    01 08 2020\n",
            "8669    01 08 2020\n",
            "6011    01 08 2020\n",
            "3406    01 08 2020\n",
            "Name: Fecha_extraccion, dtype: object\n"
          ]
        }
      ]
    },
    {
      "cell_type": "markdown",
      "source": [
        "#Ejercicio 3\n",
        "Crear una tabla de frecuencias y el gráfico correspondiente para cada una de las variables siguientes: provincia, margen y precio."
      ],
      "metadata": {
        "id": "JjFrRk6ch3Vn"
      }
    },
    {
      "cell_type": "markdown",
      "source": [
        "##3.1 Tabla de frecuencias y gráfico"
      ],
      "metadata": {
        "id": "_YcyyxJ5iErz"
      }
    },
    {
      "cell_type": "markdown",
      "source": [
        "##Provincia"
      ],
      "metadata": {
        "id": "F3rQrMz4o722"
      }
    },
    {
      "cell_type": "markdown",
      "source": [
        "###Frecuencia"
      ],
      "metadata": {
        "id": "iXKxpht-pH3W"
      }
    },
    {
      "cell_type": "code",
      "source": [
        "print(df[\"Provincia\"].value_counts())"
      ],
      "metadata": {
        "colab": {
          "base_uri": "https://localhost:8080/"
        },
        "id": "gipqxdiBiEX9",
        "outputId": "b6494cb9-0f1e-480f-82cd-879b2b4f6ac1"
      },
      "execution_count": 72,
      "outputs": [
        {
          "output_type": "stream",
          "name": "stdout",
          "text": [
            "Provincia\n",
            "MADRID                    730\n",
            "BARCELONA                 723\n",
            "VALENCIA                  568\n",
            "ALICANTE                  408\n",
            "SEVILLA                   385\n",
            "MURCIA                    384\n",
            "MALAGA                    296\n",
            "CORUNA A                  257\n",
            "GRANADA                   250\n",
            "CADIZ                     244\n",
            "GIRONA                    243\n",
            "TOLEDO                    235\n",
            "PALMAS LAS                231\n",
            "JAEN                      225\n",
            "SANTA CRUZ DE TENERIFE    223\n",
            "TARRAGONA                 212\n",
            "ZARAGOZA                  212\n",
            "BADAJOZ                   207\n",
            "ASTURIAS                  203\n",
            "NAVARRA                   202\n",
            "CORDOBA                   195\n",
            "BALEARS ILLES             194\n",
            "ALMERIA                   184\n",
            "PONTEVEDRA                184\n",
            "CIUDAD REAL               183\n",
            "CASTELLON  CASTELLO       172\n",
            "LLEIDA                    166\n",
            "LEON                      159\n",
            "CANTABRIA                 143\n",
            "ALBACETE                  133\n",
            "CACERES                   131\n",
            "BURGOS                    129\n",
            "VALLADOLID                127\n",
            "HUELVA                    120\n",
            "LUGO                      118\n",
            "BIZKAIA                   117\n",
            "GIPUZKOA                  112\n",
            "CUENCA                    107\n",
            "HUESCA                    104\n",
            "SALAMANCA                  96\n",
            "GUADALAJARA                80\n",
            "OURENSE                    80\n",
            "ZAMORA                     73\n",
            "SEGOVIA                    71\n",
            "RIOJA LA                   70\n",
            "TERUEL                     62\n",
            "PALENCIA                   62\n",
            "AVILA                      62\n",
            "ARABA ALAVA                61\n",
            "SORIA                      36\n",
            "MELILLA                    13\n",
            "CEUTA                       9\n",
            "Name: count, dtype: int64\n"
          ]
        }
      ]
    },
    {
      "cell_type": "markdown",
      "source": [
        "###Gráfico"
      ],
      "metadata": {
        "id": "huwVTMWmmdUp"
      }
    },
    {
      "cell_type": "code",
      "source": [
        "sns.countplot(x=df[\"Provincia\"],edgecolor='black')\n",
        "plt.title(\"Frecuencia de Provincia\")\n",
        "plt.xlabel(\" \")\n",
        "plt.ylabel(\"Frecuencia\")\n",
        "plt.show()"
      ],
      "metadata": {
        "colab": {
          "base_uri": "https://localhost:8080/",
          "height": 472
        },
        "id": "9q9ZL7rLkQtZ",
        "outputId": "11de8e6d-f058-4c75-d93f-0dbdbd7dedc4"
      },
      "execution_count": 101,
      "outputs": [
        {
          "output_type": "display_data",
          "data": {
            "text/plain": [
              "<Figure size 640x480 with 1 Axes>"
            ],
            "image/png": "[encoded data removed]"
          },
          "metadata": {}
        }
      ]
    },
    {
      "cell_type": "markdown",
      "source": [
        "##Margen"
      ],
      "metadata": {
        "id": "apmVaE7XjVl6"
      }
    },
    {
      "cell_type": "markdown",
      "source": [
        "###Frecuencia"
      ],
      "metadata": {
        "id": "2tJg4MgbptBT"
      }
    },
    {
      "cell_type": "code",
      "source": [
        "print(df[\"Margen\"].value_counts())"
      ],
      "metadata": {
        "colab": {
          "base_uri": "https://localhost:8080/"
        },
        "id": "4Xi99qqYjjNP",
        "outputId": "92f95e5b-9278-4daf-b13e-478cebb0df05"
      },
      "execution_count": 73,
      "outputs": [
        {
          "output_type": "stream",
          "name": "stdout",
          "text": [
            "Margen\n",
            "D    5016\n",
            "I    2596\n",
            "N    2379\n",
            "Name: count, dtype: int64\n"
          ]
        }
      ]
    },
    {
      "cell_type": "markdown",
      "source": [
        "###Gráfico"
      ],
      "metadata": {
        "id": "Jov3gRq6mwZm"
      }
    },
    {
      "cell_type": "code",
      "source": [
        "sns.countplot(x=df[\"Margen\"],edgecolor='black')\n",
        "plt.title(\"Frecuencia de Margen\")\n",
        "plt.xlabel(\"Margen\")\n",
        "plt.ylabel(\"Frecuencia\")\n",
        "plt.show()"
      ],
      "metadata": {
        "colab": {
          "base_uri": "https://localhost:8080/",
          "height": 472
        },
        "id": "a2_SAbCOm3LX",
        "outputId": "d7335390-fb6d-421f-d2ad-44844b38d7b3"
      },
      "execution_count": 97,
      "outputs": [
        {
          "output_type": "display_data",
          "data": {
            "text/plain": [
              "<Figure size 640x480 with 1 Axes>"
            ],
            "image/png": "[encoded data removed]"
          },
          "metadata": {}
        }
      ]
    },
    {
      "cell_type": "markdown",
      "source": [
        "##Precio"
      ],
      "metadata": {
        "id": "V2d4Vow1p3UL"
      }
    },
    {
      "cell_type": "markdown",
      "source": [
        "###Frecuencia"
      ],
      "metadata": {
        "id": "iukFIV0JjwYx"
      }
    },
    {
      "cell_type": "code",
      "source": [
        "print(df[\"Precio\"].value_counts())"
      ],
      "metadata": {
        "colab": {
          "base_uri": "https://localhost:8080/"
        },
        "id": "7Vpw7MI3j1EQ",
        "outputId": "7b640d4c-5260-44af-d9bd-d24199d03854"
      },
      "execution_count": 74,
      "outputs": [
        {
          "output_type": "stream",
          "name": "stdout",
          "text": [
            "Precio\n",
            "1,199    698\n",
            "1,179    687\n",
            "1,189    616\n",
            "1,169    582\n",
            "1,209    545\n",
            "        ... \n",
            "1,001      1\n",
            "0,973      1\n",
            "0,972      1\n",
            "0,970      1\n",
            "1,448      1\n",
            "Name: count, Length: 360, dtype: int64\n"
          ]
        }
      ]
    },
    {
      "cell_type": "markdown",
      "source": [
        "###Gráfico"
      ],
      "metadata": {
        "id": "UrgWhz1YiLIi"
      }
    },
    {
      "cell_type": "code",
      "source": [
        "plt.hist(df[\"Precio\"], bins=30, density=True, edgecolor='black')\n",
        "plt.title(\"Frecuencia de Precio\")\n",
        "plt.xlabel(\" \")\n",
        "plt.ylabel(\"Frecuencia\")\n",
        "plt.show()"
      ],
      "metadata": {
        "colab": {
          "base_uri": "https://localhost:8080/",
          "height": 472
        },
        "id": "nhjZBgmBiBy3",
        "outputId": "3fca8def-3fdf-49ba-fbf3-827b49b83a07"
      },
      "execution_count": 99,
      "outputs": [
        {
          "output_type": "display_data",
          "data": {
            "text/plain": [
              "<Figure size 640x480 with 1 Axes>"
            ],
            "image/png": "[encoded data removed]"
          },
          "metadata": {}
        }
      ]
    }
  ]
}