{
  "cells": [
    {
      "cell_type": "markdown",
      "metadata": {
        "id": "view-in-github",
        "colab_type": "text"
      },
      "source": [
        "<a href=\"https://colab.research.google.com/github/gustavox0/MasterBigData/blob/main/M2_AG_Grupo17_VP.ipynb\" target=\"_parent\"><img src=\"https://colab.research.google.com/assets/colab-badge.svg\" alt=\"Open In Colab\"/></a>"
      ]
    },
    {
      "cell_type": "code",
      "source": [
        "#monto la carpeta de drive para trabajar los archivos desde ahí\n",
        "from google.colab import drive\n",
        "drive.mount('/content/drive')"
      ],
      "metadata": {
        "colab": {
          "base_uri": "https://localhost:8080/"
        },
        "id": "S3RxRgLKA3Eo",
        "outputId": "45cc8672-0596-45ed-c086-913fd6274bd7"
      },
      "execution_count": 1,
      "outputs": [
        {
          "output_type": "stream",
          "name": "stdout",
          "text": [
            "Mounted at /content/drive\n"
          ]
        }
      ]
    },
    {
      "cell_type": "markdown",
      "source": [
        "# **M2_AG_Grupo 17**\n",
        "Alumnos:\n",
        "    \n",
        "    Roger Herrera Delgado\n",
        "    Gustavo Salazar Monjarás\n",
        "\n",
        "Fecha: 24/02/2025\n",
        "---\n",
        "---"
      ],
      "metadata": {
        "id": "V-Y51ncaBQ95"
      }
    },
    {
      "cell_type": "markdown",
      "source": [
        "# **Índice**\n",
        "\n",
        "---\n",
        "---\n",
        "> [Preparación del Entorno](#scrollTo=5zZfGqOugjnr&uniqifier=1) \\\\\n",
        "> [Ejercicio 1:](#scrollTo=1J4h6kTngjn5&uniqifier=1) Ajustar un modelo de regresión lineal (esto implica escribir la fórmula y su sustitución). Obtener una estimación de los parámetros del modelo y la interpretación de los parámetros. (85%) \\\\\n",
        "\n",
        "> [Ejercicio 2:](#scrollTo=f8-7S_dkzbHu&uniqifier=1) ¿Cuántas ventas se obtendrían si se invirtiesen 7 millones de euros? (10%) \\\\\n",
        "\n",
        "> [Ejercicio 3:](#scrollTo=TDTEEolrA9ql&uniqifier=1)\n",
        "Evaluar el modelo a través de la SCE y el coeficiente de determinación. (5%) \\\\"
      ],
      "metadata": {
        "id": "NNlUM6LJBQuQ"
      }
    },
    {
      "cell_type": "code",
      "execution_count": 2,
      "metadata": {
        "id": "JiKiPQdQgjnu",
        "colab": {
          "base_uri": "https://localhost:8080/"
        },
        "outputId": "feb70207-ab1c-4d35-a4f2-798efc387f61"
      },
      "outputs": [
        {
          "output_type": "stream",
          "name": "stdout",
          "text": [
            "    Fecha_anual Inversion Ventas\n",
            "0          1980      1,00   4,61\n",
            "1          1981      1,50   5,18\n",
            "2          1982      2,00   5,09\n",
            "3          1983      2,50   5,44\n",
            "4          1984      3,00   0,62\n",
            "5          1985      3,50   6,39\n",
            "6          1986      4,00   0,64\n",
            "7          1987      4,50   7,04\n",
            "8          1988      5,00   7,13\n",
            "9          1989      5,50   7,48\n",
            "10         1990      6,00   8,01\n",
            "11         1991      6,50   7,82\n",
            "12         1992      7,00   8,22\n",
            "13         1993      7,50   8,86\n",
            "14         1994      8,00   9,10\n",
            "15         1995      8,50   9,78\n",
            "16         1996      9,00   9,82\n",
            "17         1997      9,50  10,05\n",
            "18         1998     10,00  11,12\n",
            "19         1999     10,50  11,04\n",
            "20         2000     11,00  11,47\n",
            "21         2001     11,50  11,44\n",
            "22         2002     12,00  12,01\n",
            "23         2003     12,50  12,53\n",
            "24         2004     13,00  12,56\n",
            "25         2005     13,50  12,33\n",
            "26         2006     14,00  13,40\n",
            "27         2007     14,50  13,83\n",
            "28         2008     15,00  14,10\n",
            "29         2009     15,50  15,06\n",
            "30         2010     16,00  14,95\n",
            "31         2011     16,50  15,04\n",
            "32         2012     17,00  15,86\n",
            "33         2013     17,50  15,69\n",
            "34         2014     18,00  14,64\n",
            "35         2015     18,50  16,21\n",
            "36         2016     19,00  16,72\n",
            "37         2017     19,50  17,45\n",
            "(38, 3)\n",
            "Fecha_anual : int64\n",
            "Inversion : object\n",
            "Ventas : object\n"
          ]
        }
      ],
      "source": [
        "#importo las librerias\n",
        "import pandas as pd\n",
        "import numpy as np\n",
        "import matplotlib.pyplot as plt\n",
        "import seaborn as sns\n",
        "\n",
        "#Cargo la base de covid\n",
        "df = pd.read_csv('/content/drive/My Drive/Colab Notebooks/Tema1MBDDS/datos_ventas.csv', sep = ';')\n",
        "print(df)\n",
        "\n",
        "#tamaño del df\n",
        "print(df.shape)\n",
        "\n",
        "#revision general de los datos\n",
        "for i in df.columns:\n",
        "  print(i, \":\", df[i].dtype)\n"
      ]
    },
    {
      "cell_type": "markdown",
      "source": [
        "# Preparación del entorno\n",
        "\n",
        "Una empresa os ha facilitado las inversiones y las ventas (en millones de euros) obtenidas desde el año 1980 hasta 2017.\n",
        "\n",
        "* **Clasificación de las variables**\n",
        "\n",
        "El análisis del tipo de datos es el siguiente:\n",
        "\n",
        "    -Fecha_anual: Identifica el año al que corresponde cada observacion. Variable categórica\n",
        "    -Inversion: Montos de inversión destinados por la empresa. Variable cuantitativa continua (float)\n",
        "    -Ventas: Ventas realizadas por la empresa. Variable cuantitativa continua (float)\n"
      ],
      "metadata": {
        "id": "mx-TikwXBGub"
      }
    },
    {
      "cell_type": "markdown",
      "source": [
        "Debido a que la cantidad de datos que contiene este dataset es poca permite realizar una inspección visual de los datos, de los cuales es destacable que se encuentran completos en el periodo de tiempo establecido (1980-2017). Es decir, no contiene \"NA\".\n",
        "\n",
        "Notese que el tipo de dato para las variables Inversion y Ventas no es el correcto según la clasificación antes mencionada, por lo que se transformarán dichos datos de object a float. Además, cabe mencionar que la variable Fecha_anual se encuentra en formato int64 por lo que se trabajará con métodos compatibles a este tipo de dato.\n"
      ],
      "metadata": {
        "id": "ebxH67rjjwBe"
      }
    },
    {
      "cell_type": "code",
      "source": [
        "#Se convertirá el tipo de datos de las variables Inversion y Ventas a float. En este caso se debe cambiar las ,s por .s para que la transformación se realice de forma correcta.\n",
        "x = {\"Inversion\", \"Ventas\"}\n",
        "for i in x:\n",
        "  df[i] = df[i].str.replace(',', '.')\n",
        "  df[i] = pd.to_numeric(df[i]).astype(float)"
      ],
      "metadata": {
        "id": "fK0qC6G3-aud"
      },
      "execution_count": 3,
      "outputs": []
    },
    {
      "cell_type": "code",
      "source": [
        "#revision general de los datos\n",
        "print(df.head(10))\n",
        "for i in df.columns:\n",
        "  print(i, \":\", df[i].dtype) #los tipos de las variables ya son float"
      ],
      "metadata": {
        "colab": {
          "base_uri": "https://localhost:8080/"
        },
        "id": "7wrv4kFlkCCW",
        "outputId": "20e9cbd9-81da-4329-b7be-f1df17b964ce"
      },
      "execution_count": 4,
      "outputs": [
        {
          "output_type": "stream",
          "name": "stdout",
          "text": [
            "   Fecha_anual  Inversion  Ventas\n",
            "0         1980        1.0    4.61\n",
            "1         1981        1.5    5.18\n",
            "2         1982        2.0    5.09\n",
            "3         1983        2.5    5.44\n",
            "4         1984        3.0    0.62\n",
            "5         1985        3.5    6.39\n",
            "6         1986        4.0    0.64\n",
            "7         1987        4.5    7.04\n",
            "8         1988        5.0    7.13\n",
            "9         1989        5.5    7.48\n",
            "Fecha_anual : int64\n",
            "Inversion : float64\n",
            "Ventas : float64\n"
          ]
        }
      ]
    },
    {
      "cell_type": "code",
      "source": [
        "#Observamos la relación entre las Ventas y la Inversión\n",
        "# raw data\n",
        "ventas = df[\"Ventas\"]\n",
        "inversion = df[\"Inversion\"]\n",
        "\n",
        "# labels\n",
        "plt.title(\"Dispersión entre la Inversión y las Ventas\")\n",
        "plt.xlabel(\"Inversión (millones de euros)\")\n",
        "plt.ylabel(\"Ventas (millones de euros)\")\n",
        "\n",
        "# limits\n",
        "plt.xlim(inversion.min()-1 , inversion.max()+1 )\n",
        "plt.ylim(ventas.min()-1 , ventas.max()+1 )\n",
        "\n",
        "plt.scatter(inversion,ventas)\n",
        "plt.grid(True)\n",
        "plt.show()"
      ],
      "metadata": {
        "colab": {
          "base_uri": "https://localhost:8080/",
          "height": 472
        },
        "id": "c_VkEUooDlnL",
        "outputId": "227c5755-a619-4a7d-b46b-46ca910106dc"
      },
      "execution_count": 32,
      "outputs": [
        {
          "output_type": "display_data",
          "data": {
            "text/plain": [
              "<Figure size 640x480 with 1 Axes>"
            ],
            "image/png": "[encoded data removed]"
          },
          "metadata": {}
        }
      ]
    },
    {
      "cell_type": "markdown",
      "source": [
        "Como se puede observar de la gráfica existe una relación lineal entre la Inversión y las Ventas. Además, se puede observar cómo la mayoría de los puntos muestran una clara relación lineal, excepto por dos puntos que sobresalen. Estos puntos corresponden a las ventas de 1984 y 1986 en los que, a pesar de mantener los niveles de inversión, las ventas fueron inusualmente bajas para la empresa. Ello pudo deberse quizás a una contracción de la economía local.  Para mejorar el ajuste del modelo se recomienda excluir dichos valores para el cálculo del ajuste por regresión lineal. <br> Además de la relación lineal observada, vamos a utilizar la correlación y la covarianza entre ambas variables para ver el grado de relacion entre ellas y en qué sentido afecta la inversión a las ventas. La correlación se estima para el dataset completo así como para el dataset filtrado que no considera las observaciones correspondientes a 1984 y 1986."
      ],
      "metadata": {
        "id": "Bbx79CMEuWc2"
      }
    },
    {
      "cell_type": "code",
      "source": [
        "# Correlacion\n",
        "correlacion = df.corr(method=\"pearson\")[\"Inversion\"][\"Ventas\"]\n",
        "print(\"Pearson: \",correlacion)\n",
        "\n",
        "df_filtrado = df[df['Ventas']>2.5] #filtramos las observaciones de 1984 y 1986\n",
        "correlacion2 = df_filtrado.corr(method=\"pearson\")[\"Inversion\"][\"Ventas\"]\n",
        "print(\"Pearson sin outliers: \",correlacion2)\n",
        "\n",
        "print(\"Mejora de la correlacion: \",round((correlacion2-correlacion)*100/correlacion,2), \"%\")\n",
        "\n",
        "#covarianza\n",
        "covarianza = df.cov()[\"Inversion\"][\"Ventas\"]\n",
        "print(\"Covarianza: \", covarianza)"
      ],
      "metadata": {
        "colab": {
          "base_uri": "https://localhost:8080/"
        },
        "id": "Sk2uuk2r977F",
        "outputId": "c0ffce6c-4da2-47d2-d4f4-eecc454bfb2b"
      },
      "execution_count": 5,
      "outputs": [
        {
          "output_type": "stream",
          "name": "stdout",
          "text": [
            "Pearson:  0.9562823420491507\n",
            "Pearson sin outliers:  0.9953472185255251\n",
            "Mejora de la correlacion:  4.09 %\n",
            "Covarianza:  22.92993243243243\n"
          ]
        }
      ]
    },
    {
      "cell_type": "markdown",
      "source": [
        "Al revisar la correlación entre variables se respalda lo observado en la gráfica pues se obtienen valores superiores a 0.95 por lo que existe una relación lineal fuerte entre las variables. Además, con el cálculo de la covarianza se sabe que es de tipo positiva (covarianza > 0) por lo que a mayor inversión se espera una mayor cantidad de ventas.\n",
        "\n",
        "Cabe destacar que las variables presentan una mejor correlación (4% aproximadamente) al eliminar los dos valores correspondientes a 1984 y 1986 pues estos se comportan como outliers separándose completamente del comportamiento de las variables. Se vuelve interesante analizar dichos años a detalle para entender las condiciones particulares que generaron tan pocas ventas a pesar de contar con una inversión considerable.\n",
        "\n",
        "De acá en adelante el modelo que se trabajará es el modelo filtrado sin incluir los outliers. Además, como ejercicio académico se generará el modelo sin filtrar con fines comparativos."
      ],
      "metadata": {
        "id": "9DrIfo9lbMoP"
      }
    },
    {
      "cell_type": "markdown",
      "metadata": {
        "id": "1J4h6kTngjn5"
      },
      "source": [
        "# Ejercicio 1: Ajustar un modelo de regresión lineal (esto implica escribir la fórmula y su sustitución). Obtener una estimación de los parámetros del modelo y la interpretación de los parámetros. (85%)\n",
        "\n",
        "Como se analizó anteriormente las variables se pueden ajustar linealmente, por esta razón se buscará predecir el comportamiento de la variable Ventas en relación con la Inversión. Para esto, se puede generar una función del tipo:\n",
        "\n",
        "$$ \\bbox[5px,border: 2px solid blue]{\n",
        "      y_t = \\beta_{0} + \\beta_{1}x_t + \\varepsilon_t\n",
        "} $$\n",
        "\n",
        "Cabe destacar que esta función implica una parte determinística $$\\beta_{0} + \\beta_{1}x_t$$, y una parte aleatoria $$\\varepsilon_t$$"
      ]
    },
    {
      "cell_type": "code",
      "source": [
        "from scipy import stats as ss\n",
        "\n",
        "#linregress es el metodo para extraer la recta\n",
        "pendiente, coeficiente, pearson, p, error = ss.linregress(df_filtrado[\"Inversion\"],df_filtrado[\"Ventas\"])\n",
        "\n",
        "#Modelo matematico\n",
        "def recta(x):\n",
        "    return np.round(coeficiente + pendiente*x,2)\n",
        "\n",
        "recta = np.vectorize(recta)\n",
        "linea = recta(np.arange(3000))\n",
        "\n",
        "#calculo del modelo sin filtro:\n",
        "#linregress es el metodo para extraer la recta\n",
        "pendiente1, coeficiente1, pearson1, p1, error1 = ss.linregress(df[\"Inversion\"],df[\"Ventas\"])\n",
        "#Modelo matematico sin filtro\n",
        "def recta1(x):\n",
        "    return np.round(coeficiente1 + pendiente1*x,2)\n",
        "recta1 = np.vectorize(recta1)\n",
        "linea1 = recta1(np.arange(3000))\n",
        "\n",
        "# labels\n",
        "plt.title(\"Dispersión entre la Inversión y las Ventas\")\n",
        "plt.xlabel(\"Inversión (millones de euros)\")\n",
        "plt.ylabel(\"Ventas (millones de euros)\")\n",
        "plt.legend()\n",
        "\n",
        "# limits\n",
        "plt.xlim(0 , df_filtrado[\"Inversion\"].max() )\n",
        "plt.ylim(0 , df_filtrado[\"Ventas\"].max() )\n",
        "\n",
        "# Nube de puntos + recta de regresión\n",
        "\n",
        "plt.scatter(df_filtrado[\"Inversion\"],df_filtrado[\"Ventas\"])\n",
        "colores= ['blue', 'red']\n",
        "plt.plot(df_filtrado[\"Inversion\"], df_filtrado[\"Ventas\"], 'o' )\n",
        "plt.plot(linea , color='red',label='Ajuste filtrado')\n",
        "#recta de regresión sin filtro\n",
        "plt.plot(linea1 , color='green',label='Ajuste sin filtro')\n",
        "plt.legend()\n",
        "plt.grid(True)\n",
        "plt.show()\n",
        "print(\"El modelo matemático que describe la inversión vs las ventas está descrito por los siguientes parámetros: \\n\", \"Pendiente (β1): \" ,pendiente,\"\\n Coeficiente (β0)\", coeficiente, \"\\n p-value: \", p, \"\\n Error: \",error)\n",
        "print(\"El modelo matemático que describe la inversión vs las ventas está descrito por los siguientes parámetros: \\n\", \"Pendiente (β1): \" ,pendiente1,\"\\n Coeficiente (β0)\", coeficiente1, \"\\n p-value: \", p1, \"\\n Error: \",error1)\n"
      ],
      "metadata": {
        "colab": {
          "base_uri": "https://localhost:8080/",
          "height": 706
        },
        "id": "AUZfb16hodEM",
        "outputId": "89b4b9c6-03cb-4a16-8f4f-f6b98e630f96"
      },
      "execution_count": 6,
      "outputs": [
        {
          "output_type": "stream",
          "name": "stderr",
          "text": [
            "<ipython-input-6-fe51fc4ca1a2>:26: UserWarning: No artists with labels found to put in legend.  Note that artists whose label start with an underscore are ignored when legend() is called with no argument.\n",
            "  plt.legend()\n"
          ]
        },
        {
          "output_type": "display_data",
          "data": {
            "text/plain": [
              "<Figure size 640x480 with 1 Axes>"
            ],
            "image/png": "[encoded data removed]"
          },
          "metadata": {}
        },
        {
          "output_type": "stream",
          "name": "stdout",
          "text": [
            "El modelo matemático que describe la inversión vs las ventas está descrito por los siguientes parámetros: \n",
            " Pendiente (β1):  0.6769242723088879 \n",
            " Coeficiente (β0) 3.848512940051398 \n",
            " p-value:  3.8578864430424016e-36 \n",
            " Error:  0.011238066273231016\n",
            "El modelo matemático que describe la inversión vs las ventas está descrito por los siguientes parámetros: \n",
            " Pendiente (β1):  0.7426698763540868 \n",
            " Coeficiente (β0) 2.8805285042127142 \n",
            " p-value:  8.25497955552195e-21 \n",
            " Error:  0.0378532029452961\n"
          ]
        }
      ]
    },
    {
      "cell_type": "markdown",
      "source": [
        "Como se puede observar de la gráfica, la línea del modelo se ajusta de buena manera a la nube de puntos pues en su mayoría todos los puntos se encuentran muy cercanos a la misma. Además, al comparar ambos modelos se puede observar como el modelo sin filtrar (color verde) presenta un peor ajuste pues a simple viste se observa como una mayor cantidad de puntos tienen contacto con el modelo filtrado (color rojo)\n",
        "\n",
        "Los parámetros del modelo se interpretan de la siguiente manera para el caso del modelo filtrado:\n",
        "\n",
        "    -Pendiente (β1) =  0.6769242723088879 : esta es la magnitud en la que se espera que aumenten, en promedio, las ventas cuando se incrementa la inversión. Es decir, se espera que un aumento de un millón de euros en la inversion incremente las ventas, en promedio, en 0.677 millones de euros.\n",
        "                                            Además, gráficamente representa la pendiente de la recta.\n",
        "    -Coeficiente (β0) 3.848512940051398   : esta es la intercepción de la recta con el eje X, es decir este es el valor de ventas que se espera con una inversión de 0.\n",
        "                                            Es importante aclarar que este es el significado literal del modelo mas en la realidad muchas veces esa interpretación no es real pues muchas veces no es posible invertir 0 y generar ventas.\n",
        "    -p-value:  3.8578864430424016e-36     : el p-value < 0.05 implica que se rechaza la hipotesis nula h0 correspondiente a que la pendiente es igual a 0 lo que implica que las variables sean independientes, por lo que se puede asegurar que la pendiente es significativamente distinta de 0.\n",
        "    -Error:  0.011238066273231016         : el error estandar de la regresión, generalmente cuando el valor es pequeño se dice que la regresión es precisa, a pesar de esto debemos tener en cuenta que las unidades de los datos usados en la regresión son en millones por lo que el error a pesar de ser un valor \"pequeño\" puede implicar cifras importantes en la vida real.\n",
        "\n",
        "\n",
        "\n"
      ],
      "metadata": {
        "id": "U-iHVM3q34EB"
      }
    },
    {
      "cell_type": "markdown",
      "source": [
        "## Ejercicio 2: ¿Cuántas ventas se obtendrían si se invirtiesen 7 millones de euros? (10%)\n"
      ],
      "metadata": {
        "id": "f8-7S_dkzbHu"
      }
    },
    {
      "cell_type": "markdown",
      "source": [
        "Anteriormente se definió el modelo que predice el comportamiento de las ventas en base a la inversión realizada como:\n",
        "$$\n",
        "Ventas = 0.6769242723088879 * {\\text{Inversion} + 3.848512940051398 }\n",
        "$$\n"
      ],
      "metadata": {
        "id": "sTqeNcA1wBdL"
      }
    },
    {
      "cell_type": "code",
      "source": [
        "inv = 7\n",
        "ventas7 = round(recta(inv).item(),2)\n",
        "print(\"Las ventas promedio estimadas para una inversión de 7 millones de euros son de: \", ventas7, \" millones de euros\")"
      ],
      "metadata": {
        "colab": {
          "base_uri": "https://localhost:8080/"
        },
        "id": "NbaygkF8CobO",
        "outputId": "44cb02e0-e6e3-47ba-c9bc-06b12f2ff3d5"
      },
      "execution_count": 7,
      "outputs": [
        {
          "output_type": "stream",
          "name": "stdout",
          "text": [
            "Las ventas promedio estimadas para una inversión de 7 millones de euros son de:  8.59  millones de euros\n"
          ]
        }
      ]
    },
    {
      "cell_type": "markdown",
      "source": [
        "##Ejercicio 3: Evaluar el modelo a través de la SCE y el coeficiente de determinación. (5%)"
      ],
      "metadata": {
        "id": "TDTEEolrA9ql"
      }
    },
    {
      "cell_type": "code",
      "source": [
        "#calculo de SCE\n",
        "SCE = sum((df_filtrado[\"Ventas\"] - recta(df_filtrado[\"Inversion\"]))**2)\n",
        "print(\"SCE: \", SCE)\n",
        "#calculo de SCT\n",
        "SCT = sum((df_filtrado[\"Ventas\"] - df_filtrado[\"Ventas\"].mean())**2)\n",
        "print(\"SCT: \", SCT)\n",
        "#calculo de R2\n",
        "R2 = 1- SCE/SCT\n",
        "\n",
        "#calculo con la formula extensa mas que todo por comprobacion personal mas claramente es mas eficiente el calculo anterior\n",
        "# Valores predichos por el modelo\n",
        "y_predicho = recta(df_filtrado[\"Inversion\"])\n",
        "# Media de los valores reales\n",
        "y_media = np.mean(df_filtrado['Ventas'])\n",
        "# Suma de Cuadrados de la Regresión (SCR) → Numerador\n",
        "SCR = np.sum((y_predicho - y_media) ** 2)\n",
        "# Cálculo del coeficiente de determinación R²\n",
        "R22 = SCR / SCT\n",
        "print(\"R²: \", R2)\n",
        "\n",
        "#evaluacion del ajuste para los datos no filtrados\n",
        "#calculo de SCE\n",
        "SCE1 = sum((df[\"Ventas\"] - recta1(df[\"Inversion\"]))**2)\n",
        "#calculo de SCT\n",
        "SCT1 = sum((df[\"Ventas\"] - df[\"Ventas\"].mean())**2)\n",
        "#calculo de R2\n",
        "R21 = 1- SCE1/SCT1\n",
        "#imprimo los resultados\n",
        "print(\"\\nSCE sin filtro: \", SCE1, \"\\nSCT sin filtro: \", SCT1,\"\\nR² sin filtro: \", R21)\n"
      ],
      "metadata": {
        "colab": {
          "base_uri": "https://localhost:8080/"
        },
        "id": "itDv_0c2EpD-",
        "outputId": "74fec863-8acf-46b5-ee29-2db4d6cbee5e"
      },
      "execution_count": 8,
      "outputs": [
        {
          "output_type": "stream",
          "name": "stdout",
          "text": [
            "SCE:  4.484299999999999\n",
            "SCT:  483.65187499999996\n",
            "R²:  0.9907282484948498\n",
            "\n",
            "SCE sin filtro:  58.9466 \n",
            "SCT sin filtro:  689.0139815789473 \n",
            "R² sin filtro:  0.914447889918115\n"
          ]
        }
      ]
    },
    {
      "cell_type": "markdown",
      "source": [
        "El SCE es una medida de ajuste que evalua que tanto se alejan los resultados del modelo respecto a los reales, en este caso se obtuvo un valor de SCE= 4.48, el cual en comparación con SCT = 483.65 es un valor bajo. El SCT evalua la variabilidad de los datos. Por lo que mediante la evaluación de SCE se dice que el modelo se ajusta de buena forma ya que los errores respecto al modelo y los valores observados es baja.\n",
        "\n",
        "Además, al realizar el cálculo del coeficiente de determinación (R²) se obtuvo un valor de R² =  0.9907, este valor es muy cercano a 1 lo cual indica un ajuste bueno y se puede decir además que el 99.07% de la variabilidad de las ventas es explicada por la inversión.\n",
        "\n",
        "Es por estas razones que se dice que el modelo tiene un buen ajuste y que es confiable para realizar predicciones. Además, mediante estas medidas se puede cuantificar el aporte del filtrado inicial de los datos que mejoró el ajuste del modelo en cerca del 7.5%."
      ],
      "metadata": {
        "id": "1Lu_txdNIjg_"
      }
    },
    {
      "cell_type": "markdown",
      "source": [
        "`"
      ],
      "metadata": {
        "id": "cFUswmwmIfz2"
      }
    }
  ],
  "metadata": {
    "colab": {
      "provenance": [],
      "toc_visible": true,
      "include_colab_link": true
    },
    "kernelspec": {
      "display_name": "mbdds_rpy20",
      "language": "python",
      "name": "mbdds_rpy20"
    },
    "language_info": {
      "codemirror_mode": {
        "name": "ipython",
        "version": 3
      },
      "file_extension": ".py",
      "mimetype": "text/x-python",
      "name": "python",
      "nbconvert_exporter": "python",
      "pygments_lexer": "ipython3",
      "version": "3.6.9"
    }
  },
  "nbformat": 4,
  "nbformat_minor": 0
}