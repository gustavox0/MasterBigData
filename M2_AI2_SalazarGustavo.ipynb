{
  "nbformat": 4,
  "nbformat_minor": 0,
  "metadata": {
    "colab": {
      "provenance": [],
      "toc_visible": true,
      "authorship_tag": "ABX9TyMiHxTRkH/UmRKZjEur95wG",
      "include_colab_link": true
    },
    "kernelspec": {
      "name": "python3",
      "display_name": "Python 3"
    },
    "language_info": {
      "name": "python"
    }
  },
  "cells": [
    {
      "cell_type": "markdown",
      "metadata": {
        "id": "view-in-github",
        "colab_type": "text"
      },
      "source": [
        "<a href=\"https://colab.research.google.com/github/gustavox0/MasterBigData/blob/main/M2_AI2_SalazarGustavo.ipynb\" target=\"_parent\"><img src=\"https://colab.research.google.com/assets/colab-badge.svg\" alt=\"Open In Colab\"/></a>"
      ]
    },
    {
      "cell_type": "code",
      "source": [
        "#monto la carpeta de drive para trabajar los archivos desde ahí\n",
        "from google.colab import drive\n",
        "drive.mount('/content/drive')"
      ],
      "metadata": {
        "colab": {
          "base_uri": "https://localhost:8080/"
        },
        "id": "pHs-6jKNjwXC",
        "outputId": "10bf6572-ab83-4013-dcee-94563b181266"
      },
      "execution_count": 5,
      "outputs": [
        {
          "output_type": "stream",
          "name": "stdout",
          "text": [
            "Mounted at /content/drive\n"
          ]
        }
      ]
    },
    {
      "cell_type": "code",
      "execution_count": 57,
      "metadata": {
        "id": "U6zeViX55U1e"
      },
      "outputs": [],
      "source": [
        "#Cargo los paquetes pandas y numpy como pd y np, respectivamente\n",
        "import pandas as pd\n",
        "import numpy as np\n",
        "import matplotlib.pyplot as plt\n",
        "import seaborn as sns"
      ]
    },
    {
      "cell_type": "code",
      "source": [
        "#Cargo la base de facturas\n",
        "df=pd.read_csv('/content/drive/My Drive/Colab Notebooks/Tema1MBDDS/datos_facturas.csv',sep=';')\n",
        "#Reviso el contenido de la base y las variables que contiene\n",
        "df.head()"
      ],
      "metadata": {
        "colab": {
          "base_uri": "https://localhost:8080/",
          "height": 206
        },
        "id": "uFNTGVAqjsSo",
        "outputId": "aca39d1d-8700-468a-9338-1490e193aefb"
      },
      "execution_count": 58,
      "outputs": [
        {
          "output_type": "execute_result",
          "data": {
            "text/plain": [
              "   id       fecha    mes   cliente factura_pagada  importe_factura tipo_IVA  \\\n",
              "0   1  01/01/2010  Enero  clienteA             si              100   normal   \n",
              "1   2  02/01/2010  Enero  clienteB             no              150   normal   \n",
              "2   3  03/01/2010  Enero  clienteC             si               75   normal   \n",
              "3   4  04/01/2010  Enero  clienteD             si              200   normal   \n",
              "4   5  05/01/2010  Enero  clienteA             no              125   normal   \n",
              "\n",
              "   porcentaje_IVA   IVA total_pagado  \n",
              "0              18    18          118  \n",
              "1              18    27          177  \n",
              "2              18  13,5         88,5  \n",
              "3              18    36          236  \n",
              "4              18  22,5        147,5  "
            ],
            "text/html": [
              "\n",
              "  <div id=\"df-74dbf2c9-598c-4cc3-b972-08dc23e29c39\" class=\"colab-df-container\">\n",
              "    <div>\n",
              "<style scoped>\n",
              "    .dataframe tbody tr th:only-of-type {\n",
              "        vertical-align: middle;\n",
              "    }\n",
              "\n",
              "    .dataframe tbody tr th {\n",
              "        vertical-align: top;\n",
              "    }\n",
              "\n",
              "    .dataframe thead th {\n",
              "        text-align: right;\n",
              "    }\n",
              "</style>\n",
              "<table border=\"1\" class=\"dataframe\">\n",
              "  <thead>\n",
              "    <tr style=\"text-align: right;\">\n",
              "      <th></th>\n",
              "      <th>id</th>\n",
              "      <th>fecha</th>\n",
              "      <th>mes</th>\n",
              "      <th>cliente</th>\n",
              "      <th>factura_pagada</th>\n",
              "      <th>importe_factura</th>\n",
              "      <th>tipo_IVA</th>\n",
              "      <th>porcentaje_IVA</th>\n",
              "      <th>IVA</th>\n",
              "      <th>total_pagado</th>\n",
              "    </tr>\n",
              "  </thead>\n",
              "  <tbody>\n",
              "    <tr>\n",
              "      <th>0</th>\n",
              "      <td>1</td>\n",
              "      <td>01/01/2010</td>\n",
              "      <td>Enero</td>\n",
              "      <td>clienteA</td>\n",
              "      <td>si</td>\n",
              "      <td>100</td>\n",
              "      <td>normal</td>\n",
              "      <td>18</td>\n",
              "      <td>18</td>\n",
              "      <td>118</td>\n",
              "    </tr>\n",
              "    <tr>\n",
              "      <th>1</th>\n",
              "      <td>2</td>\n",
              "      <td>02/01/2010</td>\n",
              "      <td>Enero</td>\n",
              "      <td>clienteB</td>\n",
              "      <td>no</td>\n",
              "      <td>150</td>\n",
              "      <td>normal</td>\n",
              "      <td>18</td>\n",
              "      <td>27</td>\n",
              "      <td>177</td>\n",
              "    </tr>\n",
              "    <tr>\n",
              "      <th>2</th>\n",
              "      <td>3</td>\n",
              "      <td>03/01/2010</td>\n",
              "      <td>Enero</td>\n",
              "      <td>clienteC</td>\n",
              "      <td>si</td>\n",
              "      <td>75</td>\n",
              "      <td>normal</td>\n",
              "      <td>18</td>\n",
              "      <td>13,5</td>\n",
              "      <td>88,5</td>\n",
              "    </tr>\n",
              "    <tr>\n",
              "      <th>3</th>\n",
              "      <td>4</td>\n",
              "      <td>04/01/2010</td>\n",
              "      <td>Enero</td>\n",
              "      <td>clienteD</td>\n",
              "      <td>si</td>\n",
              "      <td>200</td>\n",
              "      <td>normal</td>\n",
              "      <td>18</td>\n",
              "      <td>36</td>\n",
              "      <td>236</td>\n",
              "    </tr>\n",
              "    <tr>\n",
              "      <th>4</th>\n",
              "      <td>5</td>\n",
              "      <td>05/01/2010</td>\n",
              "      <td>Enero</td>\n",
              "      <td>clienteA</td>\n",
              "      <td>no</td>\n",
              "      <td>125</td>\n",
              "      <td>normal</td>\n",
              "      <td>18</td>\n",
              "      <td>22,5</td>\n",
              "      <td>147,5</td>\n",
              "    </tr>\n",
              "  </tbody>\n",
              "</table>\n",
              "</div>\n",
              "    <div class=\"colab-df-buttons\">\n",
              "\n",
              "  <div class=\"colab-df-container\">\n",
              "    <button class=\"colab-df-convert\" onclick=\"convertToInteractive('df-74dbf2c9-598c-4cc3-b972-08dc23e29c39')\"\n",
              "            title=\"Convert this dataframe to an interactive table.\"\n",
              "            style=\"display:none;\">\n",
              "\n",
              "  <svg xmlns=\"http://www.w3.org/2000/svg\" height=\"24px\" viewBox=\"0 -960 960 960\">\n",
              "    <path d=\"M120-120v-720h720v720H120Zm60-500h600v-160H180v160Zm220 220h160v-160H400v160Zm0 220h160v-160H400v160ZM180-400h160v-160H180v160Zm440 0h160v-160H620v160ZM180-180h160v-160H180v160Zm440 0h160v-160H620v160Z\"/>\n",
              "  </svg>\n",
              "    </button>\n",
              "\n",
              "  <style>\n",
              "    .colab-df-container {\n",
              "      display:flex;\n",
              "      gap: 12px;\n",
              "    }\n",
              "\n",
              "    .colab-df-convert {\n",
              "      background-color: #E8F0FE;\n",
              "      border: none;\n",
              "      border-radius: 50%;\n",
              "      cursor: pointer;\n",
              "      display: none;\n",
              "      fill: #1967D2;\n",
              "      height: 32px;\n",
              "      padding: 0 0 0 0;\n",
              "      width: 32px;\n",
              "    }\n",
              "\n",
              "    .colab-df-convert:hover {\n",
              "      background-color: #E2EBFA;\n",
              "      box-shadow: 0px 1px 2px rgba(60, 64, 67, 0.3), 0px 1px 3px 1px rgba(60, 64, 67, 0.15);\n",
              "      fill: #174EA6;\n",
              "    }\n",
              "\n",
              "    .colab-df-buttons div {\n",
              "      margin-bottom: 4px;\n",
              "    }\n",
              "\n",
              "    [theme=dark] .colab-df-convert {\n",
              "      background-color: #3B4455;\n",
              "      fill: #D2E3FC;\n",
              "    }\n",
              "\n",
              "    [theme=dark] .colab-df-convert:hover {\n",
              "      background-color: #434B5C;\n",
              "      box-shadow: 0px 1px 3px 1px rgba(0, 0, 0, 0.15);\n",
              "      filter: drop-shadow(0px 1px 2px rgba(0, 0, 0, 0.3));\n",
              "      fill: #FFFFFF;\n",
              "    }\n",
              "  </style>\n",
              "\n",
              "    <script>\n",
              "      const buttonEl =\n",
              "        document.querySelector('#df-74dbf2c9-598c-4cc3-b972-08dc23e29c39 button.colab-df-convert');\n",
              "      buttonEl.style.display =\n",
              "        google.colab.kernel.accessAllowed ? 'block' : 'none';\n",
              "\n",
              "      async function convertToInteractive(key) {\n",
              "        const element = document.querySelector('#df-74dbf2c9-598c-4cc3-b972-08dc23e29c39');\n",
              "        const dataTable =\n",
              "          await google.colab.kernel.invokeFunction('convertToInteractive',\n",
              "                                                    [key], {});\n",
              "        if (!dataTable) return;\n",
              "\n",
              "        const docLinkHtml = 'Like what you see? Visit the ' +\n",
              "          '<a target=\"_blank\" href=https://colab.research.google.com/notebooks/data_table.ipynb>data table notebook</a>'\n",
              "          + ' to learn more about interactive tables.';\n",
              "        element.innerHTML = '';\n",
              "        dataTable['output_type'] = 'display_data';\n",
              "        await google.colab.output.renderOutput(dataTable, element);\n",
              "        const docLink = document.createElement('div');\n",
              "        docLink.innerHTML = docLinkHtml;\n",
              "        element.appendChild(docLink);\n",
              "      }\n",
              "    </script>\n",
              "  </div>\n",
              "\n",
              "\n",
              "<div id=\"df-f74be907-d0c0-497f-9a0b-ae2f59aadd71\">\n",
              "  <button class=\"colab-df-quickchart\" onclick=\"quickchart('df-f74be907-d0c0-497f-9a0b-ae2f59aadd71')\"\n",
              "            title=\"Suggest charts\"\n",
              "            style=\"display:none;\">\n",
              "\n",
              "<svg xmlns=\"http://www.w3.org/2000/svg\" height=\"24px\"viewBox=\"0 0 24 24\"\n",
              "     width=\"24px\">\n",
              "    <g>\n",
              "        <path d=\"M19 3H5c-1.1 0-2 .9-2 2v14c0 1.1.9 2 2 2h14c1.1 0 2-.9 2-2V5c0-1.1-.9-2-2-2zM9 17H7v-7h2v7zm4 0h-2V7h2v10zm4 0h-2v-4h2v4z\"/>\n",
              "    </g>\n",
              "</svg>\n",
              "  </button>\n",
              "\n",
              "<style>\n",
              "  .colab-df-quickchart {\n",
              "      --bg-color: #E8F0FE;\n",
              "      --fill-color: #1967D2;\n",
              "      --hover-bg-color: #E2EBFA;\n",
              "      --hover-fill-color: #174EA6;\n",
              "      --disabled-fill-color: #AAA;\n",
              "      --disabled-bg-color: #DDD;\n",
              "  }\n",
              "\n",
              "  [theme=dark] .colab-df-quickchart {\n",
              "      --bg-color: #3B4455;\n",
              "      --fill-color: #D2E3FC;\n",
              "      --hover-bg-color: #434B5C;\n",
              "      --hover-fill-color: #FFFFFF;\n",
              "      --disabled-bg-color: #3B4455;\n",
              "      --disabled-fill-color: #666;\n",
              "  }\n",
              "\n",
              "  .colab-df-quickchart {\n",
              "    background-color: var(--bg-color);\n",
              "    border: none;\n",
              "    border-radius: 50%;\n",
              "    cursor: pointer;\n",
              "    display: none;\n",
              "    fill: var(--fill-color);\n",
              "    height: 32px;\n",
              "    padding: 0;\n",
              "    width: 32px;\n",
              "  }\n",
              "\n",
              "  .colab-df-quickchart:hover {\n",
              "    background-color: var(--hover-bg-color);\n",
              "    box-shadow: 0 1px 2px rgba(60, 64, 67, 0.3), 0 1px 3px 1px rgba(60, 64, 67, 0.15);\n",
              "    fill: var(--button-hover-fill-color);\n",
              "  }\n",
              "\n",
              "  .colab-df-quickchart-complete:disabled,\n",
              "  .colab-df-quickchart-complete:disabled:hover {\n",
              "    background-color: var(--disabled-bg-color);\n",
              "    fill: var(--disabled-fill-color);\n",
              "    box-shadow: none;\n",
              "  }\n",
              "\n",
              "  .colab-df-spinner {\n",
              "    border: 2px solid var(--fill-color);\n",
              "    border-color: transparent;\n",
              "    border-bottom-color: var(--fill-color);\n",
              "    animation:\n",
              "      spin 1s steps(1) infinite;\n",
              "  }\n",
              "\n",
              "  @keyframes spin {\n",
              "    0% {\n",
              "      border-color: transparent;\n",
              "      border-bottom-color: var(--fill-color);\n",
              "      border-left-color: var(--fill-color);\n",
              "    }\n",
              "    20% {\n",
              "      border-color: transparent;\n",
              "      border-left-color: var(--fill-color);\n",
              "      border-top-color: var(--fill-color);\n",
              "    }\n",
              "    30% {\n",
              "      border-color: transparent;\n",
              "      border-left-color: var(--fill-color);\n",
              "      border-top-color: var(--fill-color);\n",
              "      border-right-color: var(--fill-color);\n",
              "    }\n",
              "    40% {\n",
              "      border-color: transparent;\n",
              "      border-right-color: var(--fill-color);\n",
              "      border-top-color: var(--fill-color);\n",
              "    }\n",
              "    60% {\n",
              "      border-color: transparent;\n",
              "      border-right-color: var(--fill-color);\n",
              "    }\n",
              "    80% {\n",
              "      border-color: transparent;\n",
              "      border-right-color: var(--fill-color);\n",
              "      border-bottom-color: var(--fill-color);\n",
              "    }\n",
              "    90% {\n",
              "      border-color: transparent;\n",
              "      border-bottom-color: var(--fill-color);\n",
              "    }\n",
              "  }\n",
              "</style>\n",
              "\n",
              "  <script>\n",
              "    async function quickchart(key) {\n",
              "      const quickchartButtonEl =\n",
              "        document.querySelector('#' + key + ' button');\n",
              "      quickchartButtonEl.disabled = true;  // To prevent multiple clicks.\n",
              "      quickchartButtonEl.classList.add('colab-df-spinner');\n",
              "      try {\n",
              "        const charts = await google.colab.kernel.invokeFunction(\n",
              "            'suggestCharts', [key], {});\n",
              "      } catch (error) {\n",
              "        console.error('Error during call to suggestCharts:', error);\n",
              "      }\n",
              "      quickchartButtonEl.classList.remove('colab-df-spinner');\n",
              "      quickchartButtonEl.classList.add('colab-df-quickchart-complete');\n",
              "    }\n",
              "    (() => {\n",
              "      let quickchartButtonEl =\n",
              "        document.querySelector('#df-f74be907-d0c0-497f-9a0b-ae2f59aadd71 button');\n",
              "      quickchartButtonEl.style.display =\n",
              "        google.colab.kernel.accessAllowed ? 'block' : 'none';\n",
              "    })();\n",
              "  </script>\n",
              "</div>\n",
              "\n",
              "    </div>\n",
              "  </div>\n"
            ],
            "application/vnd.google.colaboratory.intrinsic+json": {
              "type": "dataframe",
              "variable_name": "df",
              "summary": "{\n  \"name\": \"df\",\n  \"rows\": 45,\n  \"fields\": [\n    {\n      \"column\": \"id\",\n      \"properties\": {\n        \"dtype\": \"number\",\n        \"std\": 13,\n        \"min\": 1,\n        \"max\": 45,\n        \"num_unique_values\": 45,\n        \"samples\": [\n          40,\n          26,\n          27\n        ],\n        \"semantic_type\": \"\",\n        \"description\": \"\"\n      }\n    },\n    {\n      \"column\": \"fecha\",\n      \"properties\": {\n        \"dtype\": \"string\",\n        \"num_unique_values\": 45,\n        \"samples\": [\n          \"09/02/2010\",\n          \"26/01/2010\",\n          \"27/01/2010\"\n        ],\n        \"semantic_type\": \"\",\n        \"description\": \"\"\n      }\n    },\n    {\n      \"column\": \"mes\",\n      \"properties\": {\n        \"dtype\": \"category\",\n        \"num_unique_values\": 2,\n        \"samples\": [\n          \"Febrero\",\n          \"Enero\"\n        ],\n        \"semantic_type\": \"\",\n        \"description\": \"\"\n      }\n    },\n    {\n      \"column\": \"cliente\",\n      \"properties\": {\n        \"dtype\": \"category\",\n        \"num_unique_values\": 4,\n        \"samples\": [\n          \"clienteB\",\n          \"clienteD\"\n        ],\n        \"semantic_type\": \"\",\n        \"description\": \"\"\n      }\n    },\n    {\n      \"column\": \"factura_pagada\",\n      \"properties\": {\n        \"dtype\": \"category\",\n        \"num_unique_values\": 2,\n        \"samples\": [\n          \"no\",\n          \"si\"\n        ],\n        \"semantic_type\": \"\",\n        \"description\": \"\"\n      }\n    },\n    {\n      \"column\": \"importe_factura\",\n      \"properties\": {\n        \"dtype\": \"number\",\n        \"std\": 49,\n        \"min\": 25,\n        \"max\": 200,\n        \"num_unique_values\": 9,\n        \"samples\": [\n          25,\n          150\n        ],\n        \"semantic_type\": \"\",\n        \"description\": \"\"\n      }\n    },\n    {\n      \"column\": \"tipo_IVA\",\n      \"properties\": {\n        \"dtype\": \"category\",\n        \"num_unique_values\": 2,\n        \"samples\": [\n          \"reducido\",\n          \"normal\"\n        ],\n        \"semantic_type\": \"\",\n        \"description\": \"\"\n      }\n    },\n    {\n      \"column\": \"porcentaje_IVA\",\n      \"properties\": {\n        \"dtype\": \"number\",\n        \"std\": 4,\n        \"min\": 8,\n        \"max\": 18,\n        \"num_unique_values\": 2,\n        \"samples\": [\n          8,\n          18\n        ],\n        \"semantic_type\": \"\",\n        \"description\": \"\"\n      }\n    },\n    {\n      \"column\": \"IVA\",\n      \"properties\": {\n        \"dtype\": \"category\",\n        \"num_unique_values\": 12,\n        \"samples\": [\n          \"4,5\",\n          \"9\"\n        ],\n        \"semantic_type\": \"\",\n        \"description\": \"\"\n      }\n    },\n    {\n      \"column\": \"total_pagado\",\n      \"properties\": {\n        \"dtype\": \"category\",\n        \"num_unique_values\": 12,\n        \"samples\": [\n          \"29,5\",\n          \"59\"\n        ],\n        \"semantic_type\": \"\",\n        \"description\": \"\"\n      }\n    }\n  ]\n}"
            }
          },
          "metadata": {},
          "execution_count": 58
        }
      ]
    },
    {
      "cell_type": "markdown",
      "source": [
        "#Clasificación de las variables\n",
        "**id**: identificador correlativo y secuencial del número de registros de facturas. Se trata de una variabla para identificar a los individuos, por lo que es de tipo cualitativa nominal.\n",
        "\n",
        "**fecha**: fecha en la que se generó la factura. Se trata de una variable para identificar el tiempo en que se creó la factura, por lo que es de tipo cualitativa nominal.\n",
        "\n",
        "**mes**: mes en la que se generó la factura. Se trata de una variable para identificar el mes en que se creó la factura, por lo que es de tipo cualitativa nominal.\n",
        "\n",
        "**cliente**: tipo de cliente, clasificado de la A a la D. Permite clasificar a los clientes por lo que se trata de una variable cualitativa nominal (de clasificación)\n",
        "\n",
        "**factura_pagada**: descriptivo de si está pagada o no, en la fecha de generación. Solo toma dos valores o categorias, por lo que se trata de una variable cualitativa dicotómica.\n",
        "\n",
        "**importe_factura**: importe neto sin el IVA. se trata de una variable monetaria sobre el monto pagado por lo que se una variable cuantitativa de tipo discreto.\n",
        "\n",
        "**tipo_IVA**: es el tipo de impuesto aplicado (descriptivo). Solo toma los valores nominales 'normal' y 'reducido', por lo que se trata de una variable cualitativa de tipo dicotómico.\n",
        "\n",
        "**porcentaje_IVA**: es el porcentaje aplicado. solo toma dos valores numéricos 18 y 8. Por tanto, se trata de una variable cuantitativa discreta. Esta variable tambien puede pensarse como cualitativa, ya que estos valores tambien se pueden pensar como el tipo_IVA (18 como impuesto normal y 8 como impuesto reducido).\n",
        "\n",
        "**IVA**: es el valor numérico del porcentaje correspondiente a la factura. Representa el valor monetario del impuesto. En principio puede tomar cualquier valor mayor que cero, por tanto se trata de una variable cuantitiva continua.\n",
        "\n",
        "**total_pagado**: es el importe bruto de la factura (el neto más el importe IVA). Puede tomar cualquier valor mayor que cero, por tanto se trata de una variable cuantitiva continua."
      ],
      "metadata": {
        "id": "KL43bCrnlXVW"
      }
    },
    {
      "cell_type": "code",
      "source": [
        "#Reviso la base para ver el tipo de las variables.\n",
        "print(df.info())"
      ],
      "metadata": {
        "id": "t9aXyr2xle7F",
        "outputId": "627bf9b2-5816-40ce-a203-aeccb06d3133",
        "colab": {
          "base_uri": "https://localhost:8080/"
        }
      },
      "execution_count": 59,
      "outputs": [
        {
          "output_type": "stream",
          "name": "stdout",
          "text": [
            "<class 'pandas.core.frame.DataFrame'>\n",
            "RangeIndex: 45 entries, 0 to 44\n",
            "Data columns (total 10 columns):\n",
            " #   Column           Non-Null Count  Dtype \n",
            "---  ------           --------------  ----- \n",
            " 0   id               45 non-null     int64 \n",
            " 1   fecha            45 non-null     object\n",
            " 2   mes              45 non-null     object\n",
            " 3   cliente          45 non-null     object\n",
            " 4   factura_pagada   45 non-null     object\n",
            " 5   importe_factura  45 non-null     int64 \n",
            " 6   tipo_IVA         45 non-null     object\n",
            " 7   porcentaje_IVA   45 non-null     int64 \n",
            " 8   IVA              45 non-null     object\n",
            " 9   total_pagado     45 non-null     object\n",
            "dtypes: int64(3), object(7)\n",
            "memory usage: 3.6+ KB\n",
            "None\n"
          ]
        }
      ]
    },
    {
      "cell_type": "markdown",
      "source": [
        "De lo anterior, observo que \"IVA\" y \"total_pagado\" se encuentran como objetos. Para poder trabajar con dichas variables, en una copia de la base las convierto a tipo float y cambio las \",\" por \".\""
      ],
      "metadata": {
        "id": "o8cFB9p_l1Zi"
      }
    },
    {
      "cell_type": "code",
      "source": [
        "#Copia de la base y transformación de las variables\n",
        "DF=df.copy()\n",
        "DF['IVA']=DF['IVA'].str.replace(\",\",\".\").astype(float)\n",
        "DF['total_pagado']=DF['total_pagado'].str.replace(\",\",\".\").astype(float)"
      ],
      "metadata": {
        "id": "2dVseoYMmF9L"
      },
      "execution_count": 60,
      "outputs": []
    },
    {
      "cell_type": "markdown",
      "source": [
        "Con el dataset de la gestión de facturas, debes analizar la variable “total pagado” para poder responder a las siguientes preguntas:\n",
        "\n",
        "#Parte1: Unidimensional#\n"
      ],
      "metadata": {
        "id": "Sq0jLiTiuLKb"
      }
    },
    {
      "cell_type": "markdown",
      "source": [
        "##1.Hallar las medidas de centralización: media, mediana y moda. Analiza los resultados obtenidos.##"
      ],
      "metadata": {
        "id": "m3nd1aCBxFmC"
      }
    },
    {
      "cell_type": "code",
      "source": [
        "#calculo la media, mediana y moda\n",
        "Media=DF['total_pagado'].mean()\n",
        "print('Media:',round(Media,2))\n",
        "Me=DF['total_pagado'].median()\n",
        "print('Mediana:',round(Me,2))\n",
        "Mo=DF['total_pagado'].mode()\n",
        "print('Moda:',round(Mo,2))"
      ],
      "metadata": {
        "id": "kP5oRotU8rKH",
        "outputId": "7825a073-7e22-4187-8d90-13694c3a9e83",
        "colab": {
          "base_uri": "https://localhost:8080/"
        }
      },
      "execution_count": 62,
      "outputs": [
        {
          "output_type": "stream",
          "name": "stdout",
          "text": [
            "Media: 147.31\n",
            "Mediana: 135.0\n",
            "Moda: 0    118.0\n",
            "1    236.0\n",
            "Name: total_pagado, dtype: float64\n"
          ]
        }
      ]
    },
    {
      "cell_type": "markdown",
      "source": [
        "Observamos que tenemos dos modas: 18 y 236, por lo que se trata de una distribución bi-modal. En este sentido, tanto la media como la mediana se encuentran entre ambas modas."
      ],
      "metadata": {
        "id": "UrRuSnTA-8Fc"
      }
    },
    {
      "cell_type": "markdown",
      "source": [
        "##2.Las medidas de dispersión: rango, varianza, desviación típica y coeficiente de variación. Analiza los resultados obtenidos.#"
      ],
      "metadata": {
        "id": "ccQ3rnFTwGlk"
      }
    },
    {
      "cell_type": "code",
      "source": [
        "#Cálculo el rango como el valar maximo de la variable menos su valor mínimno.\n",
        "Rango=DF['total_pagado'].max()-DF['total_pagado'].min()\n",
        "print('Rango:',round(Rango,2))\n",
        "#Cálculo la varianza\n",
        "Var=DF['total_pagado'].var()\n",
        "print('Varianza:',round(Var,2))\n",
        "#Cálculo la desviación standar\n",
        "Dt = np.sqrt(Var)\n",
        "print('Desviación:',round(Dt,2))\n",
        "#Cálculo del Coeficiente de Variación\n",
        "CV=Dt/DF['total_pagado'].mean()\n",
        "print('Coeficiente de Variacion:',round(CV,2))"
      ],
      "metadata": {
        "id": "g090BTzsEPif",
        "outputId": "cec4beb1-196c-4855-8427-32138968eea1",
        "colab": {
          "base_uri": "https://localhost:8080/"
        }
      },
      "execution_count": 64,
      "outputs": [
        {
          "output_type": "stream",
          "name": "stdout",
          "text": [
            "Rango: 206.5\n",
            "Varianza: 3356.59\n",
            "Desviación: 57.94\n",
            "Coeficiente de Variacion: 0.39\n"
          ]
        }
      ]
    },
    {
      "cell_type": "markdown",
      "source": [
        "La variable tiene un rango de 206.5 y una varianza de 3,335.59, lo que refleja una gran dispersión de los datos aldedor de la media (147.31). El CV en este caso, es 39% (inferior a 80%) por lo que el conjunto de datos es homogéneo."
      ],
      "metadata": {
        "id": "Tet0cJG9I0te"
      }
    },
    {
      "cell_type": "markdown",
      "source": [
        "##3.Las medidas de posición: rango intercuartílico, cuartil primero y percentil 90. Analiza los resultados obtenidos.##\n"
      ],
      "metadata": {
        "id": "3YnTG9Ynwj40"
      }
    },
    {
      "cell_type": "code",
      "source": [
        "#Rango Intercuartítico\n",
        "#Debemos calcular primero los cuartiles 3 (Q3) y 1 (Q1)\n",
        "Q3 = DF['total_pagado'].quantile(0.75)\n",
        "Q1 = DF['total_pagado'].quantile(0.25) #este es el cuartil primero que tambien solicita el ejercicio.\n",
        "RI = Q3-Q1\n",
        "print('Rango Intercuartílico:',round(RI,2))\n",
        "print('Cuartil primero:',round(Q1,2))\n",
        "#percentil 90\n",
        "p90=np.percentile(DF['total_pagado'],90)\n",
        "print('Percentil 90:',round(p90,2))"
      ],
      "metadata": {
        "id": "_obGMV1iJw1r",
        "outputId": "4379102c-f769-4e1f-eb6b-d9893aee6472",
        "colab": {
          "base_uri": "https://localhost:8080/"
        }
      },
      "execution_count": 65,
      "outputs": [
        {
          "output_type": "stream",
          "name": "stdout",
          "text": [
            "Rango Intercuartílico: 81.0\n",
            "Cuartil primero: 108.0\n",
            "Percentil 90: 236.0\n"
          ]
        }
      ]
    },
    {
      "cell_type": "markdown",
      "source": [
        "**Pendiente el análisis**"
      ],
      "metadata": {
        "id": "8WAFp3HZRH6q"
      }
    },
    {
      "cell_type": "markdown",
      "source": [
        "##4.Las medidas de concentración y forma: curtosis, asimetría y el gráfico asociado. Analiza los resultados obtenidos.##"
      ],
      "metadata": {
        "id": "lPkC683Hw1vp"
      }
    },
    {
      "cell_type": "code",
      "source": [
        "#Curtosis\n",
        "Curtosis=DF['total_pagado'].kurtosis()\n",
        "print('Curtosis:',round(Curtosis,2))"
      ],
      "metadata": {
        "id": "3NrAtbStSyJG",
        "outputId": "86da6a35-3049-4976-d965-da2b0ffd7d7e",
        "colab": {
          "base_uri": "https://localhost:8080/"
        }
      },
      "execution_count": 66,
      "outputs": [
        {
          "output_type": "stream",
          "name": "stdout",
          "text": [
            "Curtosis: -0.8\n"
          ]
        }
      ]
    },
    {
      "cell_type": "markdown",
      "source": [
        "La Curtosis de la variable es negativa, es decir, que la distribución es platicúrtica. Dicho de otra manera, los valores se concentran poco alrededor de la media. Esto tiene sentido, pues la distribucion es bimodal."
      ],
      "metadata": {
        "id": "23Fe_lgCUw6-"
      }
    },
    {
      "cell_type": "code",
      "source": [
        "#Coeficiente de asimetría\n",
        "CAF=DF['total_pagado'].skew()\n",
        "print('Asimetria:',round(CAF,2))"
      ],
      "metadata": {
        "id": "_h-1W8acTf_x",
        "outputId": "04ba96df-60bc-4309-f4bf-28aaaf8a1799",
        "colab": {
          "base_uri": "https://localhost:8080/"
        }
      },
      "execution_count": 67,
      "outputs": [
        {
          "output_type": "stream",
          "name": "stdout",
          "text": [
            "Asimetria: 0.1\n"
          ]
        }
      ]
    },
    {
      "cell_type": "markdown",
      "source": [
        "El CAF es positivo, es decir, la distribución es asimétrica positiva. Ello significa que los valores de la distribución se concentran más hacia la izquierda de la distribución y, por tanto, a la izquierda de la media."
      ],
      "metadata": {
        "id": "sf3yQumZXxVT"
      }
    },
    {
      "cell_type": "code",
      "source": [
        "#Gráfico asociado\n",
        "from scipy.stats import norm\n",
        "sns.kdeplot(DF['total_pagado'], fill=True, color=\"blue\")\n",
        "\n",
        "x = np.linspace(-50, 320, 100)\n",
        "densidad=norm.pdf(x,loc=Media,scale=Dt)\n",
        "plt.plot(x, densidad, color='green', linestyle='-', label=\"Densidad Normal\")\n",
        "\n",
        "# Leyendas\n",
        "plt.title(\"Gráfico de Densidad\")\n",
        "plt.xlabel(\"Total pagado\")\n",
        "plt.ylabel(\"Densidad\")\n",
        "plt.axvline(x=DF['total_pagado'].mean(), color='r', linestyle='--',label=\"Media\")\n",
        "plt.axvline(x=DF['total_pagado'].mode()[0], color='black', linestyle='--',label=\"moda 1\")\n",
        "plt.axvline(x=DF['total_pagado'].mode()[1], color='black', linestyle='--',label=\"moda 2\")\n",
        "plt.legend()\n",
        "plt.show()"
      ],
      "metadata": {
        "id": "Q_u4Fh-SWHIK",
        "outputId": "6dd80ff2-09ae-4a94-a3d3-732252efbb91",
        "colab": {
          "base_uri": "https://localhost:8080/",
          "height": 472
        }
      },
      "execution_count": 68,
      "outputs": [
        {
          "output_type": "display_data",
          "data": {
            "text/plain": [
              "<Figure size 640x480 with 1 Axes>"
            ],
            "image/png": "[encoded data removed]"
          },
          "metadata": {}
        }
      ]
    },
    {
      "cell_type": "markdown",
      "source": [
        "Como se observa en el gráfico, con respecto a la distribución normal, la variable \"total_pagado\" es bimodal. De acuerdo con la curtosis, la distribucion es platicúrtica, por lo que es más plana que la distribucion normal. Asimismo, es asimétrica positiva, por tanto la distribucion se concentra más hacia la izquierda de la media."
      ],
      "metadata": {
        "id": "RzbW2YEVc0MU"
      }
    },
    {
      "cell_type": "markdown",
      "source": [
        "##5.Realiza un análisis de todos los datos obtenidos en los apartados anteriores y añade un gráfico de box-plot explicando los resultados.##"
      ],
      "metadata": {
        "id": "_DUM_Umvw6YR"
      }
    },
    {
      "cell_type": "markdown",
      "source": [
        "De acuerdo con las estadísticas estimadas, los montos facturados de la compañía se encuentran entre $29$ y $236$ euros, con una elevada variabilidad. Esto podria representar un riesgo para su operación.  "
      ],
      "metadata": {
        "id": "67nsUq7Ng2k7"
      }
    },
    {
      "cell_type": "code",
      "source": [
        "# Gráfico de Boxplot\n",
        "sns.boxplot(x=DF['total_pagado'], fill=False)\n",
        "plt.title('Box Plot de \"total_pagado\"')\n",
        "plt.xlabel('total_pagado')\n",
        "plt.show()"
      ],
      "metadata": {
        "id": "bQSNBChWdxaz",
        "outputId": "de17258f-f86a-4117-f350-9ec967d91586",
        "colab": {
          "base_uri": "https://localhost:8080/",
          "height": 472
        }
      },
      "execution_count": 69,
      "outputs": [
        {
          "output_type": "display_data",
          "data": {
            "text/plain": [
              "<Figure size 640x480 with 1 Axes>"
            ],
            "image/png": "[encoded data removed]"
          },
          "metadata": {}
        }
      ]
    },
    {
      "cell_type": "markdown",
      "source": [
        "#Parte2: Análisis de la información de la empresa y su situación#\n"
      ],
      "metadata": {
        "id": "lscKa_1cv8_P"
      }
    },
    {
      "cell_type": "markdown",
      "source": [
        "##1.Analiza los resultados e informa de quién es el cliente que ha pagado MÁS en todas las facturas.##"
      ],
      "metadata": {
        "id": "dP6pNSfJkxXf"
      }
    },
    {
      "cell_type": "code",
      "source": [
        "#Para encontrar el cliente que más ha pagado necesito agrupar la informacion de \"total_pagado\" por \"cliente\"\n",
        "Pago_cliente=DF.groupby('cliente')['total_pagado'].sum()\n",
        "Pago_cliente=Pago_cliente.sort_values(ascending=False) #Ordeno los datos en forma descendente\n",
        "print(Pago_cliente)"
      ],
      "metadata": {
        "id": "LaFZQXOBlodC",
        "outputId": "8b178482-11c2-4e0e-9917-a340059e5a5f",
        "colab": {
          "base_uri": "https://localhost:8080/"
        }
      },
      "execution_count": 70,
      "outputs": [
        {
          "output_type": "stream",
          "name": "stdout",
          "text": [
            "cliente\n",
            "clienteA    2099.0\n",
            "clienteD    2038.4\n",
            "clienteB    1337.0\n",
            "clienteC    1154.5\n",
            "Name: total_pagado, dtype: float64\n"
          ]
        }
      ]
    },
    {
      "cell_type": "markdown",
      "source": [
        "De lo anterior, obervamos que el cliente que más ha pagado en todas las facturas es el Cliente A con 2999 euros.  "
      ],
      "metadata": {
        "id": "0IO-hVo4qlF1"
      }
    },
    {
      "cell_type": "markdown",
      "source": [
        "##2.Analiza los resultados e informa de quién es el cliente que ha pagado MENOS facturas en el mes de febrero.##"
      ],
      "metadata": {
        "id": "oG6V8PcplDkz"
      }
    },
    {
      "cell_type": "code",
      "source": [
        "#Neceitamos contar las observaciones por cliente y por mes\n",
        "#Primero filtro los datos del mes de febrero\n",
        "Dato=DF[df['mes']=='Febrero'] #Dato solo contiene datos para febrero\n",
        "fact_febrero=Dato.groupby('cliente').size().sort_values(ascending=True) #agrupo por cliente y cuento. ordeno ascendente\n",
        "print(fact_febrero)"
      ],
      "metadata": {
        "id": "ZYJPekJ-rFkS",
        "outputId": "854e94de-2cd1-4983-fd7a-522bfc43ba59",
        "colab": {
          "base_uri": "https://localhost:8080/"
        }
      },
      "execution_count": 71,
      "outputs": [
        {
          "output_type": "stream",
          "name": "stdout",
          "text": [
            "cliente\n",
            "clienteB    3\n",
            "clienteC    3\n",
            "clienteA    4\n",
            "clienteD    4\n",
            "dtype: int64\n"
          ]
        }
      ]
    },
    {
      "cell_type": "markdown",
      "source": [
        "De acuerdo con lo anterior, los cliente que han pagado menos facturas en el mes de febrero son los cliente B y C con solo 3 facturas"
      ],
      "metadata": {
        "id": "AEgNUoMArfct"
      }
    },
    {
      "cell_type": "markdown",
      "source": [
        "##3.Añadir un gráfico de box-plot de los clientes. Conclusiones y recomendaciones después de todo el análisis realizado.##"
      ],
      "metadata": {
        "id": "JO8E1S5swhPR"
      }
    },
    {
      "cell_type": "code",
      "source": [
        "#Gráfico Boxplot\n",
        "sns.boxplot(x=DF['cliente'],color='skyblue')\n",
        "plt.title('Box Plot de Clientes')\n",
        "plt.xlabel('')\n",
        "plt.show()"
      ],
      "metadata": {
        "id": "BQNsx1SXwKqW",
        "outputId": "39b4e752-0223-47c9-f190-c3fc235757b2",
        "colab": {
          "base_uri": "https://localhost:8080/",
          "height": 452
        }
      },
      "execution_count": 83,
      "outputs": [
        {
          "output_type": "display_data",
          "data": {
            "text/plain": [
              "<Figure size 640x480 with 1 Axes>"
            ],
            "image/png": "[encoded data removed]"
          },
          "metadata": {}
        }
      ]
    },
    {
      "cell_type": "markdown",
      "source": [
        "**Pendiente Análisis**"
      ],
      "metadata": {
        "id": "PaFLz9rywqcg"
      }
    },
    {
      "cell_type": "markdown",
      "source": [
        "#Parte 3: Análisis Bidimensional#\n",
        "Crea un gráfico de dispersión que represente el total pagado de las facturas respecto del IVA aplicado. Explica el resultado obtenido.\n",
        "Determina el valor de la covarianza de ambas variables. Analiza el dato resultante obtenido.\n",
        "¿Se podría hacer un modelo predictivo? ¿porque?"
      ],
      "metadata": {
        "id": "iSryXWXmwEQ3"
      }
    },
    {
      "cell_type": "code",
      "source": [
        "## Nube de puntos\n",
        "plt.scatter(DF['total_pagado'],DF['IVA'])\n",
        "\n",
        "#leyenda\n",
        "plt.title(\"Dispersión del Monto pagado y el IVA aplicado\")\n",
        "plt.xlabel(\"Total pagado (\\u20AC)\")\n",
        "plt.ylabel(\"IVA aplicado (\\u20AC)\")\n",
        "plt.show()"
      ],
      "metadata": {
        "id": "WL6iPlJeSNGF",
        "outputId": "e75596bb-ba94-4d60-88ed-362eba14d086",
        "colab": {
          "base_uri": "https://localhost:8080/",
          "height": 472
        }
      },
      "execution_count": 73,
      "outputs": [
        {
          "output_type": "display_data",
          "data": {
            "text/plain": [
              "<Figure size 640x480 with 1 Axes>"
            ],
            "image/png": "[encoded data removed]"
          },
          "metadata": {}
        }
      ]
    },
    {
      "cell_type": "markdown",
      "source": [
        "De acuerdo con el diagrama de dispersión, existe una relación positiva entre el monto pagado y el iva aplicado. Es decir, a medida que el monto pagado aumenta, mayor es monto de impuesto que también depen pagarse. Del gráfico también se observa que para algunos montos pagado el impuesto no es tan elevado, en comparación a montos pagados similares. Esto se debe a que existe un regimen de pago de impuestos \"reducido\". En otras palabras, estan sujetos a una mejor tasa de impuestos."
      ],
      "metadata": {
        "id": "2x4pHU6iW9Ue"
      }
    },
    {
      "cell_type": "markdown",
      "source": [
        "**Covarianza**"
      ],
      "metadata": {
        "id": "36UKrMRdYTW9"
      }
    },
    {
      "cell_type": "code",
      "source": [
        "#Covarianza ente iva y total pagado\n",
        "Cov=DF['total_pagado'].cov(Iva)\n",
        "print('Covarianza',round(Cov,2))"
      ],
      "metadata": {
        "id": "uBFKCKU1YQ8z",
        "outputId": "f417de71-7740-4b07-fbc0-b9b48d870f7a",
        "colab": {
          "base_uri": "https://localhost:8080/"
        }
      },
      "execution_count": 74,
      "outputs": [
        {
          "output_type": "stream",
          "name": "stdout",
          "text": [
            "Covarianza 526.77\n"
          ]
        }
      ]
    },
    {
      "cell_type": "markdown",
      "source": [
        "Como puede observarse, la correlación entre el total pagado y el iva aplicable es positiva (526.77). Esto quiere decir que varian en el mismo sentido: a medida que incrementa el monto pagado, tambien incrementa al iva que se paga.\n",
        "\n",
        "En principio observamos que, si bien se perciben dos \"grupos\" de niveles de iva pagado, estos tienen la misma tendencia y por tanto podría ajustarse una línea de regresión como modelo predictivo. Sin embargo, se puede ajustar mejor el modelo predictivo si se consideran dos grupos y se ajustan dos líneas de regresión. En los datos de la base puede hacerse una línea de regresión para los datos que corresponden al impuesto \"normal\" y otra línea de regresión para los datos que corresponde al impuesto \"reducido\"."
      ],
      "metadata": {
        "id": "DJgU7Qddaub_"
      }
    },
    {
      "cell_type": "markdown",
      "source": [
        "##Parte 4: Análisis Global##\n",
        "Analiza toda la información obtenida. ¿Cuál sería la recomendación que darías para la toma de decisión en la compañía?"
      ],
      "metadata": {
        "id": "0qZPYlBJw3SV"
      }
    },
    {
      "cell_type": "code",
      "source": [
        "#histograma\n",
        "plt.hist(DF['cliente'],color='skyblue',edgecolor='black')\n",
        "C=DF.groupby('cliente').size()\n",
        "\n",
        "Pago_C=DF.groupby('cliente')['importe_factura'].sum()\n",
        "Pago_IVA=DF.groupby('cliente')['IVA'].sum()\n",
        "DF1=pd.DataFrame({'Q_Facturas':C,'Monto_Pagado':Pago_C,'Pago_IVA':Pago_IVA})\n",
        "DF1['Factura_media']=np.round(DF1['Monto_Pagado']/DF1['Q_Facturas'],2)\n",
        "DF1['IVA_Factura']=np.round(DF1['Pago_IVA']/DF1['Q_Facturas'],2)\n",
        "DF2=DF1.sort_values(by='Factura_media',ascending=True)\n",
        "print(DF2)\n"
      ],
      "metadata": {
        "id": "BJpgHYkfc4ty",
        "outputId": "b66a9804-a3e9-4739-f449-c2a344f60bfe",
        "colab": {
          "base_uri": "https://localhost:8080/",
          "height": 534
        }
      },
      "execution_count": 80,
      "outputs": [
        {
          "output_type": "stream",
          "name": "stdout",
          "text": [
            "          Q_Facturas  Monto_Pagado  Pago_IVA  Factura_media  IVA_Factura\n",
            "cliente                                                                 \n",
            "clienteB          11          1150     187.0         104.55        17.00\n",
            "clienteC           9          1025     129.5         113.89        14.39\n",
            "clienteA          14          1800     299.0         128.57        21.36\n",
            "clienteD          11          1730     308.4         157.27        28.04\n"
          ]
        },
        {
          "output_type": "display_data",
          "data": {
            "text/plain": [
              "<Figure size 640x480 with 1 Axes>"
            ],
            "image/png": "[encoded data removed]"
          },
          "metadata": {}
        }
      ]
    }
  ]
}